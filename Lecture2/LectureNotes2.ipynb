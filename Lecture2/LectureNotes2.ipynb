{
 "cells": [
  {
   "cell_type": "markdown",
   "id": "749475d2",
   "metadata": {},
   "source": [
    "    2 - Loops"
   ]
  },
  {
   "cell_type": "markdown",
   "id": "bfd6991d",
   "metadata": {},
   "source": [
    "For starters, let's write a code that meows at the user:"
   ]
  },
  {
   "cell_type": "code",
   "execution_count": 1,
   "id": "d890b725",
   "metadata": {},
   "outputs": [
    {
     "name": "stdout",
     "output_type": "stream",
     "text": [
      "meow\n",
      "meow\n",
      "meow\n"
     ]
    }
   ],
   "source": [
    "# meow.py\n",
    "# let's make teh cat meow three times, what's the easiest way to do that?\n",
    "\n",
    "def main():\n",
    "    print(\"meow\")\n",
    "    print(\"meow\")\n",
    "    print(\"meow\")\n",
    "main()"
   ]
  },
  {
   "cell_type": "markdown",
   "id": "3a7c8a4e",
   "metadata": {},
   "source": [
    "This is poorly designed code, we are repeating each action manually. It's not that big of a deal for this kind of program, but it will be much more useful for much bigger repetitions, like saying \"meow\" 100 times."
   ]
  },
  {
   "cell_type": "markdown",
   "id": "22c46226",
   "metadata": {},
   "source": [
    "    2.1 - While"
   ]
  },
  {
   "cell_type": "markdown",
   "id": "779346df",
   "metadata": {},
   "source": [
    "We can introduce a new function that helps us repeat things less: the \"while\" function.\n",
    "\n",
    "This works by making a code work a set number of times, without repeating those lines of code."
   ]
  },
  {
   "cell_type": "code",
   "execution_count": null,
   "id": "29694283",
   "metadata": {},
   "outputs": [],
   "source": [
    "# DO NOT RUN THIS CODE\n",
    "\n",
    "def main():\n",
    "    i = 3 # this is the number of times we want the while function to repeat\n",
    "    while i != 0:\n",
    "        print(\"meow\")\n",
    "\n",
    "main()"
   ]
  },
  {
   "cell_type": "markdown",
   "id": "dcc48d1b",
   "metadata": {},
   "source": [
    "This is a bad code to run since it runs indefinitely, possibly really slowing down any machine that runs it, we need to tell the program to let it know when to stop.\n",
    "\n",
    "When we ever lose control of our terminal we might want to hit \"Control + C\" to \"cancel\" the most recent operation and hopefully stop the program.\n",
    "\n"
   ]
  },
  {
   "cell_type": "code",
   "execution_count": 2,
   "id": "a3cbb27b",
   "metadata": {},
   "outputs": [
    {
     "name": "stdout",
     "output_type": "stream",
     "text": [
      "meow\n",
      "meow\n",
      "meow\n"
     ]
    }
   ],
   "source": [
    "def main():\n",
    "    i = 3\n",
    "    while i != 0:\n",
    "        print(\"meow\")\n",
    "        i = i - 1  # this line lets the program know how many times left it has to run the while loop\n",
    "\n",
    "main()"
   ]
  },
  {
   "cell_type": "markdown",
   "id": "f14beb65",
   "metadata": {},
   "source": [
    "It is also possible to structure code to count up instead of down:"
   ]
  },
  {
   "cell_type": "code",
   "execution_count": 5,
   "id": "429ccbfb",
   "metadata": {},
   "outputs": [
    {
     "name": "stdout",
     "output_type": "stream",
     "text": [
      "meow\n",
      "meow\n",
      "meow\n",
      "meow\n"
     ]
    }
   ],
   "source": [
    "def main():\n",
    "    i = 0  # it's better to start at 0 rather than 1\n",
    "    while i <= 3:\n",
    "        print(\"meow\")\n",
    "        i = i + 1\n",
    "\n",
    "main()"
   ]
  },
  {
   "cell_type": "markdown",
   "id": "da0d1407",
   "metadata": {},
   "source": [
    "But this code prints meow 4 times? Yes because it prints from 0 to 3 which is 4 steps when adding 1 each time, it's an easy fix tho and we can also implement some qol fixes."
   ]
  },
  {
   "cell_type": "code",
   "execution_count": 7,
   "id": "80cddcf6",
   "metadata": {},
   "outputs": [
    {
     "name": "stdout",
     "output_type": "stream",
     "text": [
      "meow\n",
      "meow\n",
      "meow\n"
     ]
    }
   ],
   "source": [
    "def main():\n",
    "    i = 0\n",
    "    while i < 3:   #this fix lets it run at 0, 1 and 2\n",
    "        print(\"meow\")\n",
    "        i += 1   #this is a qol fix\n",
    "\n",
    "main()"
   ]
  },
  {
   "cell_type": "markdown",
   "id": "0285c8ca",
   "metadata": {},
   "source": [
    "Another keyword is \"for\" and this creates a loop as well.\n",
    "\n",
    "This allows us to express us differently than \"while\"\n",
    "\n",
    "Before for loops we gotta introduce another type of data:"
   ]
  },
  {
   "cell_type": "markdown",
   "id": "a42f069d",
   "metadata": {},
   "source": [
    "    2.2 - For loops and Lists"
   ]
  },
  {
   "cell_type": "markdown",
   "id": "e463784b",
   "metadata": {},
   "source": [
    "A list is a straightforward piece of data that we can understand without much trouble, it's a list of things!\n",
    "\n",
    "A for loop lets us iterate through a list of items:"
   ]
  },
  {
   "cell_type": "code",
   "execution_count": 1,
   "id": "76a8d11e",
   "metadata": {},
   "outputs": [
    {
     "name": "stdout",
     "output_type": "stream",
     "text": [
      "meow\n",
      "meow\n",
      "meow\n"
     ]
    }
   ],
   "source": [
    "# for loop\n",
    "\n",
    "def main():\n",
    "    for i in [0, 1, 2]:\n",
    "        print(\"meow\")\n",
    "\n",
    "main()"
   ]
  },
  {
   "cell_type": "markdown",
   "id": "0ccab2fc",
   "metadata": {},
   "source": [
    "This code is already looking a bit better than the previous version of the code with a \"while\" loop. \n",
    "If we know in advance how many time we gotta go through a specific part of our code, a \"for\" loop does it a bit better.\n",
    "\n",
    "We don't need to specify the change in \"i\" like in a \"while\" loop, which lets us use one less line and makes it a bit more readable.\n",
    "\n",
    "This is all good and well, but is this the correct way to do this?\n",
    "\n",
    "If we wanted a list of a million things, are we going to write a million character long string? Obviously not, but we can use a function to help us with any type of list:"
   ]
  },
  {
   "cell_type": "code",
   "execution_count": null,
   "id": "bd5bbef0",
   "metadata": {},
   "outputs": [],
   "source": [
    "def main():\n",
    "    for i in range(3):   # range(n) indicates a list with n arguments\n",
    "        print(\"meow\")\n",
    "\n",
    "main()"
   ]
  },
  {
   "cell_type": "markdown",
   "id": "f8bee35b",
   "metadata": {},
   "source": [
    "There are some variables, especially those used for counting (like in this example), that need to be specified for a specific part of the code, but that will never be called esplicitly.\n",
    "\n",
    "A QoL fix for this would be to rename the counting variable as \"_\" (underscore) to inform others that the variable isn't important for any other part of the code and it's just there as a placeholder.\n",
    "\n",
    "Note that this isn't required, but it's a simple suggestion to make your code more \"Pythonic\"."
   ]
  },
  {
   "cell_type": "code",
   "execution_count": 2,
   "id": "beb131ce",
   "metadata": {},
   "outputs": [
    {
     "name": "stdout",
     "output_type": "stream",
     "text": [
      "meowmeowmeow\n"
     ]
    }
   ],
   "source": [
    "# let's take the code a bit further\n",
    "\n",
    "def main():\n",
    "    print(\"meow\" * 3)\n",
    "\n",
    "main()"
   ]
  },
  {
   "cell_type": "markdown",
   "id": "c4825527",
   "metadata": {},
   "source": [
    "We can fix this:"
   ]
  },
  {
   "cell_type": "code",
   "execution_count": 3,
   "id": "d42697cb",
   "metadata": {},
   "outputs": [
    {
     "name": "stdout",
     "output_type": "stream",
     "text": [
      "meow\n",
      "meow\n",
      "meow\n",
      "\n"
     ]
    }
   ],
   "source": [
    "def main():\n",
    "    print(\"meow\\n\" * 3)\n",
    "\n",
    "main()"
   ]
  },
  {
   "cell_type": "markdown",
   "id": "702d28c3",
   "metadata": {},
   "source": [
    "We don't like the extra space at the bottom, can we remove it?"
   ]
  },
  {
   "cell_type": "code",
   "execution_count": 4,
   "id": "215a5f27",
   "metadata": {},
   "outputs": [
    {
     "name": "stdout",
     "output_type": "stream",
     "text": [
      "meow\n",
      "meow\n",
      "meow\n"
     ]
    }
   ],
   "source": [
    "def main():\n",
    "    print(\"meow\\n\" * 3, end=\"\")\n",
    "\n",
    "main()"
   ]
  },
  {
   "cell_type": "markdown",
   "id": "afa2fedf",
   "metadata": {},
   "source": [
    "Now this is a nice way to do this but it's more difficult to interpret if you're not the original coder.\n",
    "\n",
    "Can we use the user's input to \"meow\" a number of times?"
   ]
  },
  {
   "cell_type": "code",
   "execution_count": 7,
   "id": "4de15a9c",
   "metadata": {},
   "outputs": [
    {
     "name": "stdout",
     "output_type": "stream",
     "text": [
      "meow\n",
      "meow\n",
      "meow\n"
     ]
    }
   ],
   "source": [
    "def main():\n",
    "    while True:  # this loop keeps running until it returns True\n",
    "        n = int(input(\"What's n? \"))\n",
    "        if n < 0:\n",
    "            continue  # this makes the loop keep running\n",
    "        else:\n",
    "            break  # this breaks the loop\n",
    "    for _ in range(n):\n",
    "        print(\"meow\")\n",
    "\n",
    "main()"
   ]
  },
  {
   "cell_type": "markdown",
   "id": "d405cfe1",
   "metadata": {},
   "source": [
    "We can skip a few lines in the if statement:"
   ]
  },
  {
   "cell_type": "code",
   "execution_count": null,
   "id": "fdcb2356",
   "metadata": {},
   "outputs": [],
   "source": [
    "def main():\n",
    "    while True:\n",
    "        n = int(input(\"What's n? \"))\n",
    "        if n > 0:\n",
    "            break\n",
    "\n",
    "    for _ in range(n):\n",
    "        print(\"meow\")\n",
    "\n",
    "main()"
   ]
  },
  {
   "cell_type": "markdown",
   "id": "2d5c4a9d",
   "metadata": {},
   "source": [
    "We can define our own \"Meow\" function:"
   ]
  },
  {
   "cell_type": "code",
   "execution_count": 10,
   "id": "602b2116",
   "metadata": {},
   "outputs": [
    {
     "name": "stdout",
     "output_type": "stream",
     "text": [
      "meow\n",
      "meow\n",
      "meow\n"
     ]
    }
   ],
   "source": [
    "def main():\n",
    "    meow(3)\n",
    "\n",
    "def meow(n):\n",
    "    for _ in range(n):\n",
    "        print(\"meow\")\n",
    "\n",
    "main()"
   ]
  },
  {
   "cell_type": "markdown",
   "id": "417edf97",
   "metadata": {},
   "source": [
    "We hardcoded the number of times we want the loop to run, but what if we wanted to accept any number?"
   ]
  },
  {
   "cell_type": "code",
   "execution_count": 11,
   "id": "a36d0f31",
   "metadata": {},
   "outputs": [
    {
     "name": "stdout",
     "output_type": "stream",
     "text": [
      "meow\n",
      "meow\n",
      "meow\n",
      "meow\n"
     ]
    }
   ],
   "source": [
    "def main():\n",
    "    number = get_number()  # this is our function that gets a positive integer from the user\n",
    "    meow(number)\n",
    "\n",
    "def get_number():\n",
    "    while True:\n",
    "        n = int(input(\"What's n? \"))\n",
    "        if n > 0:\n",
    "            return n  #this breaks out of the loop and returns explictly the number (I can still use the break but we have to use \"return n\" outside of the loop but inside the function)\n",
    "\n",
    "def meow(n):\n",
    "    for _ in range(n):\n",
    "        print(\"meow\")\n",
    "\n",
    "main()"
   ]
  },
  {
   "cell_type": "markdown",
   "id": "2a110b50",
   "metadata": {},
   "source": [
    "Let's look at lists more closely:"
   ]
  },
  {
   "cell_type": "code",
   "execution_count": 13,
   "id": "d318b3a1",
   "metadata": {},
   "outputs": [
    {
     "name": "stdout",
     "output_type": "stream",
     "text": [
      "Hermione\n",
      "Harry\n",
      "Ron\n"
     ]
    }
   ],
   "source": [
    "# hogwarts.py\n",
    "# we have a list of students, of which i know the names in advance\n",
    "\n",
    "def main():\n",
    "    students = [\"Hermione\", \"Harry\", \"Ron\"]\n",
    "\n",
    "    print(students[0])\n",
    "    print(students[1])\n",
    "    print(students[2])\n",
    "\n",
    "main()"
   ]
  },
  {
   "cell_type": "markdown",
   "id": "31a3d4f6",
   "metadata": {},
   "source": [
    "What if there were more students and we didn't necessarily know their positio in the list? Loops come in handy:"
   ]
  },
  {
   "cell_type": "code",
   "execution_count": 14,
   "id": "55eaeb03",
   "metadata": {},
   "outputs": [
    {
     "name": "stdout",
     "output_type": "stream",
     "text": [
      "Hermione\n",
      "Harry\n",
      "Ron\n"
     ]
    }
   ],
   "source": [
    "# hogwarts.py\n",
    "\n",
    "def main():\n",
    "    students = [\"Hermione\", \"Harry\", \"Ron\"]\n",
    "\n",
    "    for student in students:  #the student variable isn't used only for counting so it's better to name it explicitly\n",
    "        print(student)\n",
    "\n",
    "main()"
   ]
  },
  {
   "cell_type": "markdown",
   "id": "f014c414",
   "metadata": {},
   "source": [
    "We don't need to initialise the \"student\" variable since Python will do it for us."
   ]
  },
  {
   "cell_type": "code",
   "execution_count": null,
   "id": "efb19bca",
   "metadata": {},
   "outputs": [
    {
     "name": "stdout",
     "output_type": "stream",
     "text": [
      "0 Hermione\n",
      "1 Harry\n",
      "2 Ron\n"
     ]
    }
   ],
   "source": [
    "# hogwarts.py\n",
    "\n",
    "def main():\n",
    "    students = [\"Hermione\", \"Harry\", \"Ron\"]\n",
    "\n",
    "    for i in range(len(students)):  # if we want to use i as numbers we can't use \"i in students\" directly, and the range function cannot count a list of strings, the \"len\" (or lenght) function will count how many\n",
    "                                    # arguments a list has and return it as a number that \"i\" can use\n",
    "        print(i, students[i])  # this gives us a numbered list\n",
    "\n",
    "main()"
   ]
  },
  {
   "cell_type": "markdown",
   "id": "2ec9ed22",
   "metadata": {},
   "source": [
    "Our final piece of data of this lecture is:\n"
   ]
  },
  {
   "cell_type": "markdown",
   "id": "0a3be81b",
   "metadata": {},
   "source": [
    "    2.3 - Dictionaries"
   ]
  },
  {
   "cell_type": "markdown",
   "id": "79fb7eaa",
   "metadata": {},
   "source": [
    "The \"dict\" is a data structure that associates something with something else. This is more powerful than a list.\n",
    "\n",
    "For example what if we wanted to keep track of which Harry Potter houses any given name belongs to. We can do this with lists:"
   ]
  },
  {
   "cell_type": "code",
   "execution_count": null,
   "id": "f90b7da4",
   "metadata": {},
   "outputs": [],
   "source": [
    "def main():\n",
    "    students = [\"Hermione\", \"Harry\", \"Ron\", \"Draco\"]\n",
    "    houses = [\"Gryffindor\", \"Gryffindor\", \"Gryffindor\", \"Slytherin\"]  #we know that each student corresponds to the house in their same position in the list\n",
    "\n",
    "    print...\n",
    "\n",
    "main()"
   ]
  },
  {
   "cell_type": "markdown",
   "id": "9e899e37",
   "metadata": {},
   "source": [
    "Now this can work, but what if we also wanted to keep track of their Patronus? What if there were more students and more houses? \n",
    "\n",
    "That just adds a lot of lists and can make the code look very complicated and messy. Let's try the same code but with dictionaries:"
   ]
  },
  {
   "cell_type": "code",
   "execution_count": 16,
   "id": "3b6c7bfb",
   "metadata": {},
   "outputs": [
    {
     "name": "stdout",
     "output_type": "stream",
     "text": [
      "Gryffindor\n",
      "Gryffindor\n",
      "Gryffindor\n",
      "Slytherin\n"
     ]
    }
   ],
   "source": [
    "def main():\n",
    "    students = {\"Hermione\": \"Gryffindor\",\n",
    "                \"Harry\": \"Gryffindor\",\n",
    "                \"Ron\": \"Gryffindor\",\n",
    "                \"Draco\": \"Slytherin\"\n",
    "    }  # a dictionary is defined by the curly braces\n",
    "\n",
    "    print(students[\"Hermione\"])\n",
    "    print(students[\"Harry\"])\n",
    "    print(students[\"Ron\"])\n",
    "    print(students[\"Draco\"])\n",
    "\n",
    "main()"
   ]
  },
  {
   "cell_type": "markdown",
   "id": "4f7aea53",
   "metadata": {},
   "source": [
    "Dictionaries have an order just like lists, but whereas lists have a numerical order, dictionaries use the argument before the : as their order, in this code \"Hermione\", \"Harry\", \"Ron\" and \"Draco\" are the new \"numbers\" of the order, so calling \"Hermione\", will call \"Gryffindor\" etc.\n",
    "\n",
    "We can improve this code with loops:"
   ]
  },
  {
   "cell_type": "code",
   "execution_count": 17,
   "id": "55395ab8",
   "metadata": {},
   "outputs": [
    {
     "name": "stdout",
     "output_type": "stream",
     "text": [
      "Hermione\n",
      "Harry\n",
      "Ron\n",
      "Draco\n"
     ]
    }
   ],
   "source": [
    "def main():\n",
    "    students = {\"Hermione\": \"Gryffindor\",\n",
    "                \"Harry\": \"Gryffindor\",\n",
    "                \"Ron\": \"Gryffindor\",\n",
    "                \"Draco\": \"Slytherin\"\n",
    "    }\n",
    "\n",
    "    for student in students:\n",
    "        print(student)\n",
    "\n",
    "main()"
   ]
  },
  {
   "cell_type": "markdown",
   "id": "a526611f",
   "metadata": {},
   "source": [
    "This loop iterates through the \"keys\" (so the argument before :), but we don't want to know the name, only the houses they belong to:"
   ]
  },
  {
   "cell_type": "code",
   "execution_count": null,
   "id": "09e89065",
   "metadata": {},
   "outputs": [
    {
     "name": "stdout",
     "output_type": "stream",
     "text": [
      "Hermione Gryffindor\n",
      "Harry Gryffindor\n",
      "Ron Gryffindor\n",
      "Draco Slytherin\n"
     ]
    }
   ],
   "source": [
    "def main():\n",
    "    students = {\"Hermione\": \"Gryffindor\",\n",
    "                \"Harry\": \"Gryffindor\",\n",
    "                \"Ron\": \"Gryffindor\",\n",
    "                \"Draco\": \"Slytherin\"\n",
    "    }\n",
    "\n",
    "    for student in students:\n",
    "        print(student, students[student]) # for each \"student\" key, this function prints both the key and the value assigned to it (so the houses they belong to)\n",
    "\n",
    "main()"
   ]
  },
  {
   "cell_type": "code",
   "execution_count": null,
   "id": "a37693ff",
   "metadata": {},
   "outputs": [
    {
     "name": "stdout",
     "output_type": "stream",
     "text": [
      "Hermione, Gryffindor\n",
      "Harry, Gryffindor\n",
      "Ron, Gryffindor\n",
      "Draco, Slytherin\n"
     ]
    }
   ],
   "source": [
    "# QoL fix\n",
    "\n",
    "def main():\n",
    "    students = {\"Hermione\": \"Gryffindor\",\n",
    "                \"Harry\": \"Gryffindor\",\n",
    "                \"Ron\": \"Gryffindor\",\n",
    "                \"Draco\": \"Slytherin\"\n",
    "    }\n",
    "\n",
    "    for student in students:  # this imports the students dictionary as a list of values and uses the \"keys\" (called as student) as index to the list\n",
    "        print(student, students[student], sep=\", \") # for each \"student\" key, this function prints both the key and the value assigned to it (so the houses they belong to)\n",
    "\n",
    "main()"
   ]
  },
  {
   "cell_type": "markdown",
   "id": "6ad02da3",
   "metadata": {},
   "source": [
    "What if our database was bigger, for example we have a numbered dictionary with students' names, students' houses and their patronuses:"
   ]
  },
  {
   "cell_type": "code",
   "execution_count": 25,
   "id": "f2838efb",
   "metadata": {},
   "outputs": [
    {
     "name": "stdout",
     "output_type": "stream",
     "text": [
      "Hermione, Gryffindor, Otter\n",
      "Harry, Gryffindor, Stag\n",
      "Ron, Gryffindor, Jack Russel Terrier\n",
      "Draco, Gryffindor, None\n"
     ]
    }
   ],
   "source": [
    "# we can import bigger dictionaries as lists of dictionaries\n",
    "\n",
    "def main():\n",
    "    students = [\n",
    "        {\"name\": \"Hermione\", \"house\": \"Gryffindor\", \"patronus\": \"Otter\"},  # this is a dictionary for a single student, it has its own definitions\n",
    "        {\"name\": \"Harry\", \"house\": \"Gryffindor\", \"patronus\": \"Stag\"},\n",
    "        {\"name\": \"Ron\", \"house\": \"Gryffindor\", \"patronus\": \"Jack Russel Terrier\"},\n",
    "        {\"name\": \"Draco\", \"house\": \"Gryffindor\", \"patronus\": None}  # this \"None\" argument literally means that the \"patronus\" key has no argument (we could've used \"\" instead of None but it looks a bit more sloppy,\n",
    "                                                                    # as if we forgot to insert the value)\n",
    "    ]  # this is now a list of dictionaries\n",
    "\n",
    "    for student in students:\n",
    "        print(student[\"name\"], student[\"house\"], student[\"patronus\"], sep=\", \")\n",
    "\n",
    "main()"
   ]
  },
  {
   "cell_type": "markdown",
   "id": "6600d6b0",
   "metadata": {},
   "source": [
    "Thinking back to Super Mario Bros, we see the man the myth the legend walking, running and most importantly jumping over obstacles.\n",
    "\n",
    "What if we wanted to print one of the obstacles, three blocks stacked on top of another, using a Python program? "
   ]
  },
  {
   "cell_type": "code",
   "execution_count": 26,
   "id": "e0e4c7ab",
   "metadata": {},
   "outputs": [
    {
     "name": "stdout",
     "output_type": "stream",
     "text": [
      "#\n",
      "#\n",
      "#\n"
     ]
    }
   ],
   "source": [
    "# mario.py\n",
    "\n",
    "def main():\n",
    "    print(\"#\")\n",
    "    print(\"#\")\n",
    "    print(\"#\")\n",
    "\n",
    "main()"
   ]
  },
  {
   "cell_type": "markdown",
   "id": "3d930f0c",
   "metadata": {},
   "source": [
    "This really simple code prints what we wanted, but it's not really interactive."
   ]
  },
  {
   "cell_type": "code",
   "execution_count": 27,
   "id": "21cf78ee",
   "metadata": {},
   "outputs": [
    {
     "name": "stdout",
     "output_type": "stream",
     "text": [
      "#\n",
      "#\n",
      "#\n"
     ]
    }
   ],
   "source": [
    "# mario.py\n",
    "\n",
    "def main():\n",
    "    for _ in range(3):\n",
    "        print(\"#\")\n",
    "\n",
    "main()"
   ]
  },
  {
   "cell_type": "markdown",
   "id": "92e60f40",
   "metadata": {},
   "source": [
    "Now if we wanted to change the blocks' height we would only need to change a single variable \"range(n)\" instead of copying and pasting an indefinite number of times.\n",
    "\n",
    "We could implement a function to make this code even better:"
   ]
  },
  {
   "cell_type": "code",
   "execution_count": 29,
   "id": "8da1f7e0",
   "metadata": {},
   "outputs": [
    {
     "name": "stdout",
     "output_type": "stream",
     "text": [
      "#\n",
      "#\n",
      "#\n"
     ]
    }
   ],
   "source": [
    "# mario.py\n",
    "\n",
    "def main():\n",
    "    print_column(3)  # this is our custom function\n",
    "\n",
    "def print_column(height):\n",
    "    for _ in range(height):\n",
    "        print(\"#\")\n",
    "\n",
    "main()"
   ]
  },
  {
   "cell_type": "markdown",
   "id": "49f34528",
   "metadata": {},
   "source": [
    "This code is a little more difficult to read but it sets us up for more complicated programs in the future."
   ]
  },
  {
   "cell_type": "code",
   "execution_count": 31,
   "id": "492d6490",
   "metadata": {},
   "outputs": [
    {
     "name": "stdout",
     "output_type": "stream",
     "text": [
      "#\n",
      "#\n",
      "#\n"
     ]
    }
   ],
   "source": [
    "# mario.py\n",
    "\n",
    "def main():\n",
    "    print_column(3)\n",
    "\n",
    "def print_column(height):\n",
    "    print(\"#\\n\" * height, end=\"\")\n",
    "\n",
    "main()"
   ]
  },
  {
   "cell_type": "markdown",
   "id": "c17a5347",
   "metadata": {},
   "source": [
    "We can change the internal structure of our own functions (as long as we don't change their names) whenever and however we want.\n",
    "\n",
    "What if we now wanted to print 4 item blocks in a row:"
   ]
  },
  {
   "cell_type": "code",
   "execution_count": 32,
   "id": "04a2b235",
   "metadata": {},
   "outputs": [
    {
     "name": "stdout",
     "output_type": "stream",
     "text": [
      "????\n"
     ]
    }
   ],
   "source": [
    "# mario.py\n",
    "\n",
    "def main():\n",
    "    print_row(4)\n",
    "\n",
    "def print_row(width):\n",
    "    print(\"?\" * width)\n",
    "\n",
    "main()"
   ]
  },
  {
   "cell_type": "markdown",
   "id": "976a8ed0",
   "metadata": {},
   "source": [
    "Let's try and print a square obstacle."
   ]
  },
  {
   "cell_type": "code",
   "execution_count": 1,
   "id": "998d4565",
   "metadata": {},
   "outputs": [
    {
     "name": "stdout",
     "output_type": "stream",
     "text": [
      "###\n",
      "###\n",
      "###\n"
     ]
    }
   ],
   "source": [
    "# mario.py\n",
    "\n",
    "def main():\n",
    "    print_square(3)\n",
    "\n",
    "def print_square(size):\n",
    "\n",
    "    # for each row in square\n",
    "    for i in range(size):\n",
    "\n",
    "        #for each brick in row\n",
    "        for j in range(size):\n",
    "\n",
    "            #print brick\n",
    "            print(\"#\", end=\"\")\n",
    "\n",
    "        print()  #this prints a new line after the row has ended printing\n",
    "\n",
    "\n",
    "main()"
   ]
  },
  {
   "cell_type": "markdown",
   "id": "11a2d672",
   "metadata": {},
   "source": [
    "How can we make this code better?"
   ]
  },
  {
   "cell_type": "code",
   "execution_count": null,
   "id": "30b0827a",
   "metadata": {},
   "outputs": [
    {
     "name": "stdout",
     "output_type": "stream",
     "text": [
      "###\n",
      "###\n",
      "###\n"
     ]
    }
   ],
   "source": [
    "def main():\n",
    "    print_square(3)\n",
    "\n",
    "def print_square(size):\n",
    "    for i in range(size):\n",
    "        print(\"#\" * size)  # this helps us save a line by not calling another for loop\n",
    "\n",
    "main()"
   ]
  },
  {
   "cell_type": "markdown",
   "id": "8ea60c90",
   "metadata": {},
   "source": [
    "We can improve this code again:"
   ]
  },
  {
   "cell_type": "code",
   "execution_count": 3,
   "id": "75596e25",
   "metadata": {},
   "outputs": [
    {
     "name": "stdout",
     "output_type": "stream",
     "text": [
      "###\n",
      "###\n",
      "###\n"
     ]
    }
   ],
   "source": [
    "def main():\n",
    "    print_square(3)\n",
    "\n",
    "def print_square(size):\n",
    "    for i in range(size):\n",
    "        print_row(size)\n",
    "\n",
    "def print_row(width):\n",
    "    print(\"#\" * width)\n",
    "\n",
    "main()"
   ]
  },
  {
   "cell_type": "markdown",
   "id": "702ad40b",
   "metadata": {},
   "source": [
    "    1st Short - Dictionaries"
   ]
  },
  {
   "cell_type": "markdown",
   "id": "1dc7dcef",
   "metadata": {},
   "source": [
    "We want to create a program to create a report on any given spacecraft in the universe:"
   ]
  },
  {
   "cell_type": "code",
   "execution_count": 1,
   "id": "7d0b5e27",
   "metadata": {},
   "outputs": [
    {
     "name": "stdout",
     "output_type": "stream",
     "text": [
      "\n",
      "    ========= REPORT ========\n",
      "\n",
      "    Name: TODO\n",
      "    Distance: TODO\n",
      "\n",
      "    =========================\n",
      "    \n"
     ]
    }
   ],
   "source": [
    "def main():\n",
    "    spacecraft = {\"name\": \"Voyager 1\", \"distance\": \"163\"}\n",
    "    print(create_report(spacecraft))\n",
    "\n",
    "def create_report(spacecraft):  # this takes spacecraft as input and return the report with the correct info for printing in main\n",
    "    return f\"\"\"\n",
    "    ========= REPORT ========\n",
    "\n",
    "    Name: TODO\n",
    "    Distance: TODO\n",
    "\n",
    "    =========================\n",
    "    \"\"\"\n",
    "\n",
    "main()"
   ]
  },
  {
   "cell_type": "markdown",
   "id": "a5620243",
   "metadata": {},
   "source": [
    "Now this prints what's inside of create_report, but we have to fix the function to be able to access the values inside of our dictionary."
   ]
  },
  {
   "cell_type": "code",
   "execution_count": null,
   "id": "d9911ec5",
   "metadata": {},
   "outputs": [
    {
     "name": "stdout",
     "output_type": "stream",
     "text": [
      "\n",
      "    ========= REPORT ========\n",
      "\n",
      "    Name: Voyager 1   \n",
      "    Distance: 163\n",
      "\n",
      "    =========================\n",
      "    \n"
     ]
    }
   ],
   "source": [
    "def main():\n",
    "    spacecraft = {\"name\": \"Voyager 1\", \"distance\": \"163\"}\n",
    "    print(create_report(spacecraft))\n",
    "\n",
    "def create_report(spacecraft):  # this takes spacecraft as input and return the report with the correct info for printing in main\n",
    "    return f\"\"\"\n",
    "    ========= REPORT ========\n",
    "\n",
    "    Name: {spacecraft[\"name\"]}\n",
    "    Distance: {spacecraft[\"distance\"]} AU\n",
    "\n",
    "    =========================\n",
    "    \"\"\"\n",
    "\n",
    "main()"
   ]
  },
  {
   "cell_type": "markdown",
   "id": "edfb295a",
   "metadata": {},
   "source": [
    "We combined multiple pieces of information regarding a topic and compiled them using different \"keys\"\n",
    "\n",
    "But what could go wrong with dictioaries?"
   ]
  },
  {
   "cell_type": "code",
   "execution_count": 3,
   "id": "db932e0f",
   "metadata": {},
   "outputs": [
    {
     "ename": "KeyError",
     "evalue": "'distance'",
     "output_type": "error",
     "traceback": [
      "\u001b[31m---------------------------------------------------------------------------\u001b[39m",
      "\u001b[31mKeyError\u001b[39m                                  Traceback (most recent call last)",
      "\u001b[36mCell\u001b[39m\u001b[36m \u001b[39m\u001b[32mIn[3]\u001b[39m\u001b[32m, line 15\u001b[39m\n\u001b[32m      5\u001b[39m \u001b[38;5;28;01mdef\u001b[39;00m\u001b[38;5;250m \u001b[39m\u001b[34mcreate_report\u001b[39m(spacecraft):  \u001b[38;5;66;03m# this takes spacecraft as input and return the report with the correct info for printing in main\u001b[39;00m\n\u001b[32m      6\u001b[39m     \u001b[38;5;28;01mreturn\u001b[39;00m \u001b[33mf\u001b[39m\u001b[33m\"\"\"\u001b[39m\n\u001b[32m      7\u001b[39m \u001b[33m    ========= REPORT ========\u001b[39m\n\u001b[32m      8\u001b[39m \n\u001b[32m   (...)\u001b[39m\u001b[32m     12\u001b[39m \u001b[33m    =========================\u001b[39m\n\u001b[32m     13\u001b[39m \u001b[33m    \u001b[39m\u001b[33m\"\"\"\u001b[39m\n\u001b[32m---> \u001b[39m\u001b[32m15\u001b[39m \u001b[43mmain\u001b[49m\u001b[43m(\u001b[49m\u001b[43m)\u001b[49m\n",
      "\u001b[36mCell\u001b[39m\u001b[36m \u001b[39m\u001b[32mIn[3]\u001b[39m\u001b[32m, line 3\u001b[39m, in \u001b[36mmain\u001b[39m\u001b[34m()\u001b[39m\n\u001b[32m      1\u001b[39m \u001b[38;5;28;01mdef\u001b[39;00m\u001b[38;5;250m \u001b[39m\u001b[34mmain\u001b[39m():\n\u001b[32m      2\u001b[39m     spacecraft = {\u001b[33m\"\u001b[39m\u001b[33mname\u001b[39m\u001b[33m\"\u001b[39m: \u001b[33m\"\u001b[39m\u001b[33mJames Webb Space Telescope\u001b[39m\u001b[33m\"\u001b[39m}\n\u001b[32m----> \u001b[39m\u001b[32m3\u001b[39m     \u001b[38;5;28mprint\u001b[39m(\u001b[43mcreate_report\u001b[49m\u001b[43m(\u001b[49m\u001b[43mspacecraft\u001b[49m\u001b[43m)\u001b[49m)\n",
      "\u001b[36mCell\u001b[39m\u001b[36m \u001b[39m\u001b[32mIn[3]\u001b[39m\u001b[32m, line 10\u001b[39m, in \u001b[36mcreate_report\u001b[39m\u001b[34m(spacecraft)\u001b[39m\n\u001b[32m      5\u001b[39m \u001b[38;5;28;01mdef\u001b[39;00m\u001b[38;5;250m \u001b[39m\u001b[34mcreate_report\u001b[39m(spacecraft):  \u001b[38;5;66;03m# this takes spacecraft as input and return the report with the correct info for printing in main\u001b[39;00m\n\u001b[32m      6\u001b[39m     \u001b[38;5;28;01mreturn\u001b[39;00m \u001b[33mf\u001b[39m\u001b[33m\"\"\"\u001b[39m\n\u001b[32m      7\u001b[39m \u001b[33m    ========= REPORT ========\u001b[39m\n\u001b[32m      8\u001b[39m \n\u001b[32m      9\u001b[39m \u001b[33m    Name: \u001b[39m\u001b[38;5;132;01m{\u001b[39;00mspacecraft[\u001b[33m\"\u001b[39m\u001b[33mname\u001b[39m\u001b[33m\"\u001b[39m]\u001b[38;5;132;01m}\u001b[39;00m\n\u001b[32m---> \u001b[39m\u001b[32m10\u001b[39m \u001b[33m    Distance: \u001b[39m\u001b[38;5;132;01m{\u001b[39;00m\u001b[43mspacecraft\u001b[49m\u001b[43m[\u001b[49m\u001b[33;43m\"\u001b[39;49m\u001b[33;43mdistance\u001b[39;49m\u001b[33;43m\"\u001b[39;49m\u001b[43m]\u001b[49m\u001b[38;5;132;01m}\u001b[39;00m\u001b[33m AU\u001b[39m\n\u001b[32m     11\u001b[39m \n\u001b[32m     12\u001b[39m \u001b[33m    =========================\u001b[39m\n\u001b[32m     13\u001b[39m \u001b[33m    \u001b[39m\u001b[33m\"\"\"\u001b[39m\n",
      "\u001b[31mKeyError\u001b[39m: 'distance'"
     ]
    }
   ],
   "source": [
    "def main():\n",
    "    spacecraft = {\"name\": \"James Webb Space Telescope\"}\n",
    "    print(create_report(spacecraft))\n",
    "\n",
    "def create_report(spacecraft):  # this takes spacecraft as input and return the report with the correct info for printing in main\n",
    "    return f\"\"\"\n",
    "    ========= REPORT ========\n",
    "\n",
    "    Name: {spacecraft[\"name\"]}\n",
    "    Distance: {spacecraft[\"distance\"]} AU\n",
    "\n",
    "    =========================\n",
    "    \"\"\"\n",
    "\n",
    "main()"
   ]
  },
  {
   "cell_type": "markdown",
   "id": "2eb652ce",
   "metadata": {},
   "source": [
    "Here we get a \"key\" error since we tried to access a key that didn't exist."
   ]
  },
  {
   "cell_type": "code",
   "execution_count": 4,
   "id": "22c995e1",
   "metadata": {},
   "outputs": [
    {
     "name": "stdout",
     "output_type": "stream",
     "text": [
      "\n",
      "    ========= REPORT ========\n",
      "\n",
      "    Name: James Webb Space Telescope\n",
      "    Distance: 0.01 AU\n",
      "\n",
      "    =========================\n",
      "    \n"
     ]
    }
   ],
   "source": [
    "def main():\n",
    "    spacecraft = {\"name\": \"James Webb Space Telescope\"}\n",
    "    spacecraft[\"distance\"] = 0.01  #here we can add keys to the dictionary without modifying the original line\n",
    "    print(create_report(spacecraft))\n",
    "\n",
    "def create_report(spacecraft):  # this takes spacecraft as input and return the report with the correct info for printing in main\n",
    "    return f\"\"\"\n",
    "    ========= REPORT ========\n",
    "\n",
    "    Name: {spacecraft[\"name\"]}\n",
    "    Distance: {spacecraft[\"distance\"]} AU\n",
    "\n",
    "    =========================\n",
    "    \"\"\"\n",
    "\n",
    "main()"
   ]
  },
  {
   "cell_type": "markdown",
   "id": "b841eec3",
   "metadata": {},
   "source": [
    "Here are more ways to access these values for a given key:"
   ]
  },
  {
   "cell_type": "code",
   "execution_count": 6,
   "id": "66885baa",
   "metadata": {},
   "outputs": [
    {
     "name": "stdout",
     "output_type": "stream",
     "text": [
      "\n",
      "    ========= REPORT ========\n",
      "\n",
      "    Name: Voyager 1\n",
      "    Distance: Unknown AU\n",
      "\n",
      "    =========================\n",
      "    \n"
     ]
    }
   ],
   "source": [
    "def main():\n",
    "    spacecraft = {\"name\": \"Voyager 1\"}\n",
    "    print(create_report(spacecraft))\n",
    "\n",
    "def create_report(spacecraft):  # this takes spacecraft as input and return the report with the correct info for printing in main\n",
    "    return f\"\"\"\n",
    "    ========= REPORT ========\n",
    "\n",
    "    Name: {spacecraft.get(\"name\", \"Unknown\")}\n",
    "    Distance: {spacecraft.get(\"distance\", \"Unknown\")} AU\n",
    "\n",
    "    =========================\n",
    "    \"\"\"\n",
    "# the .get() command takes in the value of the key specified inside its brackets, whatever it may be, and can be used to return other values\n",
    "# if the key doesn't exist or is void\n",
    "main()"
   ]
  },
  {
   "cell_type": "markdown",
   "id": "084b99fe",
   "metadata": {},
   "source": [
    "Let's see more ways to add keys:"
   ]
  },
  {
   "cell_type": "code",
   "execution_count": 7,
   "id": "97c34fcd",
   "metadata": {},
   "outputs": [
    {
     "name": "stdout",
     "output_type": "stream",
     "text": [
      "\n",
      "    ========= REPORT ========\n",
      "\n",
      "    Name: Voyager 1\n",
      "    Distance: 0.01 AU\n",
      "    Orbit: Sun\n",
      "\n",
      "    =========================\n",
      "    \n"
     ]
    }
   ],
   "source": [
    "def main():\n",
    "    spacecraft = {\"name\": \"Voyager 1\"}\n",
    "    spacecraft.update({\"distance\": 0.01, \"orbit\": \"Sun\"})  # this updates our dictionary with the keys and values from another dictionary\n",
    "    print(create_report(spacecraft))\n",
    "\n",
    "def create_report(spacecraft):  # this takes spacecraft as input and return the report with the correct info for printing in main\n",
    "    return f\"\"\"\n",
    "    ========= REPORT ========\n",
    "\n",
    "    Name: {spacecraft.get(\"name\", \"Unknown\")}\n",
    "    Distance: {spacecraft.get(\"distance\", \"Unknown\")} AU\n",
    "    Orbit: {spacecraft.get(\"orbit\", \"Unknown\")}\n",
    "\n",
    "    =========================\n",
    "    \"\"\"\n",
    "\n",
    "main()"
   ]
  },
  {
   "cell_type": "code",
   "execution_count": 8,
   "id": "5cd2d3bd",
   "metadata": {},
   "outputs": [
    {
     "name": "stdout",
     "output_type": "stream",
     "text": [
      "Voyager 1 is 163 AU from Earth\n",
      "Voyager 2 is 136 AU from Earth\n",
      "Pioneer 10 is 80 AU from Earth\n",
      "New Horizons is 58 AU from Earth\n",
      "Pioneer 11 is 44 AU from Earth\n"
     ]
    }
   ],
   "source": [
    "# distances.py\n",
    "# we want to make a dictionary with spacecrafts on a column and their distances in another column and print it\n",
    "\n",
    "def main():\n",
    "    distances = {\n",
    "        \"Voyager 1\": 163,\n",
    "        \"Voyager 2\": 136,\n",
    "        \"Pioneer 10\": 80,\n",
    "        \"New Horizons\": 58,\n",
    "        \"Pioneer 11\": 44\n",
    "    }\n",
    "\n",
    "    for name in distances.keys():   #this .keys() returns all the keys inside the dictionary\n",
    "        print(f\"{name} is {distances[name]} AU from Earth\")\n",
    "\n",
    "main()"
   ]
  },
  {
   "cell_type": "markdown",
   "id": "c162b4ad",
   "metadata": {},
   "source": [
    "It's also possible to loop over values in a dictionary:"
   ]
  },
  {
   "cell_type": "code",
   "execution_count": 9,
   "id": "7d1f3c2a",
   "metadata": {},
   "outputs": [
    {
     "name": "stdout",
     "output_type": "stream",
     "text": [
      "163 AU is 24384452924100 m\n",
      "136 AU is 20345310415200 m\n",
      "80 AU is 11967829656000 m\n",
      "58 AU is 8676676500600 m\n",
      "44 AU is 6582306310800 m\n"
     ]
    }
   ],
   "source": [
    "def main():\n",
    "    distances = {\n",
    "        \"Voyager 1\": 163,\n",
    "        \"Voyager 2\": 136,\n",
    "        \"Pioneer 10\": 80,\n",
    "        \"New Horizons\": 58,\n",
    "        \"Pioneer 11\": 44\n",
    "    }\n",
    "\n",
    "    for distance in distances.values():\n",
    "        print(f\"{distance} AU is {convert(distance)} m\")\n",
    "\n",
    "def convert(au):\n",
    "    return au * 149597870700   #number of meters in a AU\n",
    "\n",
    "main()"
   ]
  },
  {
   "cell_type": "markdown",
   "id": "4fe30b42",
   "metadata": {},
   "source": [
    "    2nd Short - Dictionary Methods"
   ]
  },
  {
   "cell_type": "code",
   "execution_count": null,
   "id": "85f543c6",
   "metadata": {},
   "outputs": [],
   "source": [
    "# bee.py\n",
    "# we want to recreate a Spelling Bee game, by making the user guess words that we can then remove from our dictionary of words left.\n",
    "\n",
    "def main():\n",
    "    WORDS = {\"PAIR\": 4, \"HAIR\": 4, \"CHAIR\": 5}\n",
    "\n",
    "    print(\"Welcome to Spelling Bee!\")\n",
    "    print(\"Your letters are: A I P C R H G\")\n",
    "\n",
    "    while len(WORDS) > 0:\n",
    "        print(f\"{len(WORDS)} words left!\")\n",
    "        guess = input(\"Guess a word: \").capitalize()\n",
    "\n",
    "        # TODO: check if guess is in dictionary\n",
    "\n",
    "    print(\"That's the game!\")\n",
    "\n",
    "main()"
   ]
  },
  {
   "cell_type": "markdown",
   "id": "7e181c00",
   "metadata": {},
   "source": [
    "We want to remove correct guesses from our dictionary and show the user how many words are left (using len(WORDS), it checks the numbers of keys left in the dictionary)"
   ]
  },
  {
   "cell_type": "code",
   "execution_count": 3,
   "id": "9e0fba3c",
   "metadata": {},
   "outputs": [
    {
     "name": "stdout",
     "output_type": "stream",
     "text": [
      "Welcome to Spelling Bee!\n",
      "Your letters are: A I P C R H G\n",
      "3 words left!\n",
      "Good job! You scored 4 points.\n",
      "2 words left!\n",
      "2 words left!\n",
      "Good job! You scored 4 points.\n",
      "1 words left!\n",
      "Good job! You scored 5 points.\n",
      "That's the game!\n"
     ]
    }
   ],
   "source": [
    "def main():\n",
    "    WORDS = {\"PAIR\": 4, \"HAIR\": 4, \"CHAIR\": 5}\n",
    "\n",
    "    print(\"Welcome to Spelling Bee!\")\n",
    "    print(\"Your letters are: A I P C R H G\")\n",
    "\n",
    "    while len(WORDS) > 0:\n",
    "        print(f\"{len(WORDS)} words left!\")\n",
    "        guess = input(\"Guess a word: \")\n",
    "\n",
    "        # TODO: check if guess is in dictionary\n",
    "        if guess in WORDS.keys():\n",
    "            points = WORDS.pop(guess)  # this method will return the value associated to the key and remove the pair key entirely\n",
    "            print(f\"Good job! You scored {points} points.\")\n",
    "\n",
    "    print(\"That's the game!\")\n",
    "\n",
    "main()"
   ]
  },
  {
   "cell_type": "markdown",
   "id": "fb19b2da",
   "metadata": {},
   "source": [
    "Let's add a \"superword\" which, if the user guesses it, it will end the game immediately:"
   ]
  },
  {
   "cell_type": "code",
   "execution_count": 4,
   "id": "bdc8efcb",
   "metadata": {},
   "outputs": [
    {
     "name": "stdout",
     "output_type": "stream",
     "text": [
      "Welcome to Spelling Bee!\n",
      "Your letters are: A I P C R H G\n",
      "4 words left!\n",
      "You've won!\n",
      "That's the game!\n"
     ]
    }
   ],
   "source": [
    "def main():\n",
    "    WORDS = {\"PAIR\": 4, \"HAIR\": 4, \"CHAIR\": 5, \"GRAPHIC\": 7}\n",
    "\n",
    "    print(\"Welcome to Spelling Bee!\")\n",
    "    print(\"Your letters are: A I P C R H G\")\n",
    "\n",
    "    while len(WORDS) > 0:\n",
    "        print(f\"{len(WORDS)} words left!\")\n",
    "        guess = input(\"Guess a word: \")\n",
    "\n",
    "        if guess == \"GRAPHIC\":\n",
    "            WORDS.clear()  # this will remove all of the keys from the dictionary\n",
    "            print(\"You've won!\")\n",
    "\n",
    "        if guess in WORDS.keys():\n",
    "            points = WORDS.pop(guess)\n",
    "            print(f\"Good job! You scored {points} points.\")\n",
    "\n",
    "    print(\"That's the game!\")\n",
    "\n",
    "main()"
   ]
  },
  {
   "cell_type": "markdown",
   "id": "56dba070",
   "metadata": {},
   "source": [
    "What if we wanted to show the user all the possible words of this spelling bee?"
   ]
  },
  {
   "cell_type": "code",
   "execution_count": 6,
   "id": "776cdde4",
   "metadata": {},
   "outputs": [
    {
     "name": "stdout",
     "output_type": "stream",
     "text": [
      "Welcome to Spelling Bee!\n",
      "PAIR was worth 4 points\n",
      "HAIR was worth 4 points\n",
      "CHAIR was worth 5 points\n",
      "GRAPHIC was worth 7 points\n"
     ]
    }
   ],
   "source": [
    "def main():\n",
    "    WORDS = {\"PAIR\": 4, \"HAIR\": 4, \"CHAIR\": 5, \"GRAPHIC\": 7}\n",
    "\n",
    "    print(\"Welcome to Spelling Bee!\")\n",
    "    WORDS.items()  # this gives us both the key and its value\n",
    "    for word, points in WORDS.items():   #words, points stands for a key, value pair\n",
    "        print(f\"{word} was worth {points} points\")\n",
    "\n",
    "main()"
   ]
  },
  {
   "cell_type": "markdown",
   "id": "53c9612c",
   "metadata": {},
   "source": [
    "3rd Short - For Loops"
   ]
  },
  {
   "cell_type": "code",
   "execution_count": null,
   "id": "a6f1d857",
   "metadata": {},
   "outputs": [],
   "source": [
    "# Peach wants to send invitations to her ball and wrote a code to do that\n",
    "\n",
    "def main():\n",
    "    print(write_letter(\"Mario\", \"Princess Peach\"))\n",
    "    print(write_letter(\"Luigi\", \"Princess Peach\"))\n",
    "    print(write_letter(\"Daisy\", \"Princess Peach\"))\n",
    "    print(write_letter(\"Yoshi\", \"Princess Peach\"))\n",
    "\n",
    "\n",
    "def write_letter(receiver, sender):\n",
    "    return f\"\"\"\n",
    "    +~~~~~~~~~~~~~~~~~~~~~~~~~~~~~~~~~~~~~~~~~~+\n",
    "       Dear {receiver},\n",
    "\n",
    "       You are cordially invited to a ball at\n",
    "       Peach's Castle this evening, 7:00 PM.\n",
    "\n",
    "       Sincerely,\n",
    "       {sender}\n",
    "    +~~~~~~~~~~~~~~~~~~~~~~~~~~~~~~~~~~~~~~~~~~+\n",
    "    \"\"\"\n",
    "\n",
    "\n",
    "main()"
   ]
  },
  {
   "cell_type": "markdown",
   "id": "925bcdd8",
   "metadata": {},
   "source": [
    "What if we wanted to invite more guests? It seems like it's a lot of copy + paste and it doesn't look good.\n",
    "\n",
    "Let's try to use a for loop:"
   ]
  },
  {
   "cell_type": "code",
   "execution_count": null,
   "id": "01781a3d",
   "metadata": {},
   "outputs": [],
   "source": [
    "def main():\n",
    "    names = [\"Mario\", \"Luigi\", \"Daisy\", \"Yoshi\"]\n",
    "\n",
    "    for i in range(len(names)):\n",
    "        print(write_letter(names[i], \"Princess Peach\"))  #this iterates through the names in the list (assigned from 0 to 3)\n",
    "\n",
    "def write_letter(receiver, sender):\n",
    "    return f\"\"\"\n",
    "    +~~~~~~~~~~~~~~~~~~~~~~~~~~~~~~~~~~~~~~~~~~+\n",
    "       Dear {receiver},\n",
    "\n",
    "       You are cordially invited to a ball at\n",
    "       Peach's Castle this evening, 7:00 PM.\n",
    "\n",
    "       Sincerely,\n",
    "       {sender}\n",
    "    +~~~~~~~~~~~~~~~~~~~~~~~~~~~~~~~~~~~~~~~~~~+\n",
    "    \"\"\"\n",
    "\n",
    "\n",
    "main()"
   ]
  },
  {
   "cell_type": "markdown",
   "id": "762cb8e4",
   "metadata": {},
   "source": [
    "If we now wanted to add a guest to the guest list we would just need to update the list with their name."
   ]
  },
  {
   "cell_type": "code",
   "execution_count": null,
   "id": "7ad01c43",
   "metadata": {},
   "outputs": [],
   "source": [
    "def main():\n",
    "    names = [\"Mario\", \"Luigi\", \"Daisy\", \"Yoshi\"]\n",
    "\n",
    "    for name in names:  # this is clearer than the previous grammar but works just the same\n",
    "        print(write_letter(name, \"Princess Peach\"))  #this iterates through the names in the list (assigned from 0 to 3)\n",
    "\n",
    "def write_letter(receiver, sender):\n",
    "    return f\"\"\"\n",
    "    +~~~~~~~~~~~~~~~~~~~~~~~~~~~~~~~~~~~~~~~~~~+\n",
    "       Dear {receiver},\n",
    "\n",
    "       You are cordially invited to a ball at\n",
    "       Peach's Castle this evening, 7:00 PM.\n",
    "\n",
    "       Sincerely,\n",
    "       {sender}\n",
    "    +~~~~~~~~~~~~~~~~~~~~~~~~~~~~~~~~~~~~~~~~~~+\n",
    "    \"\"\"\n",
    "\n",
    "\n",
    "main()"
   ]
  },
  {
   "cell_type": "markdown",
   "id": "3d12b22e",
   "metadata": {},
   "source": [
    "    4th Short - Lists"
   ]
  },
  {
   "cell_type": "markdown",
   "id": "01aacd7a",
   "metadata": {},
   "source": [
    "Here's how we can store information with different orders in Python:"
   ]
  },
  {
   "cell_type": "code",
   "execution_count": 9,
   "id": "fc2dfe8b",
   "metadata": {},
   "outputs": [
    {
     "name": "stdout",
     "output_type": "stream",
     "text": [
      "['Mario', 'Luigi', 'Princess Peach', 'Yoshi', 'Koopa Troopa', 'Toad', ['Bowser', 'Donkey Kong Jr.']]\n"
     ]
    }
   ],
   "source": [
    "# let's write a code that makes a list representing the order of the pilots that finished a race\n",
    "# results.py\n",
    "\n",
    "def main():\n",
    "    results = [\"Mario\", \"Luigi\"]\n",
    "\n",
    "    results.append(\"Princess Peach\")  # this lets us update a list by tallying these arguments to the previous list\n",
    "    results.append(\"Yoshi\")\n",
    "    results.append(\"Koopa Troopa\")\n",
    "    results.append(\"Toad\")\n",
    "\n",
    "    results.append([\"Bowser\", \"Donkey Kong Jr.\"]) # we hopefully try to add a list to the previous list\n",
    "\n",
    "    print(results)\n",
    "\n",
    "main()"
   ]
  },
  {
   "cell_type": "markdown",
   "id": "edb2c135",
   "metadata": {},
   "source": [
    "We notice that the list added to the previous list is shown as being a sublist, so ho do we fix it?"
   ]
  },
  {
   "cell_type": "code",
   "execution_count": 10,
   "id": "a71e28f3",
   "metadata": {},
   "outputs": [
    {
     "name": "stdout",
     "output_type": "stream",
     "text": [
      "['Mario', 'Luigi', 'Princess Peach', 'Yoshi', 'Koopa Troopa', 'Toad', 'Bowser', 'Donkey Kong Jr.']\n"
     ]
    }
   ],
   "source": [
    "def main():\n",
    "    results = [\"Mario\", \"Luigi\"]\n",
    "\n",
    "    results.append(\"Princess Peach\")  # this lets us update a list by tallying these arguments to the previous list\n",
    "    results.append(\"Yoshi\")\n",
    "    results.append(\"Koopa Troopa\")\n",
    "    results.append(\"Toad\")\n",
    "\n",
    "    results.append([\"Bowser\", \"Donkey Kong Jr.\"]) # we hopefully try to add a list to the previous list\n",
    "    results.remove([\"Bowser\", \"Donkey Kong Jr.\"]) # this removes the added list\n",
    "\n",
    "    results.extend([\"Bowser\", \"Donkey Kong Jr.\"]) # this lets us attach the list at the end of the previous list\n",
    "\n",
    "    print(results)\n",
    "\n",
    "main()"
   ]
  },
  {
   "cell_type": "code",
   "execution_count": null,
   "id": "f25f70c1",
   "metadata": {},
   "outputs": [
    {
     "name": "stdout",
     "output_type": "stream",
     "text": [
      "['Bowser', 'Mario', 'Luigi', 'Yoshi', 'Koopa Troopa', 'Toad', 'Donkey Kong Jr.']\n"
     ]
    }
   ],
   "source": [
    "def main():\n",
    "    results = [\"Mario\", \"Luigi\", \"Yoshi\", \"Koopa Troopa\", \"Toad\", \"Bowser\", \"Donkey Kong Jr.\"]\n",
    "\n",
    "    results.remove(\"Bowser\") # this removes the first instance of an argument \"Bowser\"\n",
    "    results.insert(0, \"Bowser\") # this adds a \"Bowser\" at the 0th index of the list (so first)\n",
    "    results.reverse()  # pretty clear, it reverses\n",
    "\n",
    "    print(results)\n",
    "\n",
    "main()"
   ]
  },
  {
   "cell_type": "markdown",
   "id": "995bdd84",
   "metadata": {},
   "source": [
    "    5th Short - List and Dictionary Comprehension"
   ]
  },
  {
   "cell_type": "markdown",
   "id": "d1cdf8bf",
   "metadata": {},
   "source": [
    "It is possible to create lists and dictionaries from zero, thanks to data we already have or that we can get:"
   ]
  },
  {
   "cell_type": "code",
   "execution_count": null,
   "id": "d103100c",
   "metadata": {},
   "outputs": [],
   "source": [
    "# comprehensions.py\n",
    "# we want to create a dictionary of words based on a .txt file\n",
    "\n",
    "def main():\n",
    "    counts = {}\n",
    "    words = get_words(\"address.txt\")  # this opens up the address.txt file as a list of all the words inside of it\n",
    "\n",
    "    for word in words:  # this iterates over every word in the list\n",
    "        if word in counts:\n",
    "            counts[word] += 1  # if the word has already been added it increases that word's count by one\n",
    "        else:\n",
    "            counts[word] = 1 # if the word hasn't been added to the dictionary this sets its count to one\n",
    "\n",
    "    save_counts(counts)  # this saves the dictionary as a csv file\n",
    "\n",
    "def get_words():\n",
    "    ...\n",
    "\n",
    "def save_counts(word, counts):\n",
    "    ...\n",
    "\n",
    "main()"
   ]
  },
  {
   "cell_type": "markdown",
   "id": "cd4a29c2",
   "metadata": {},
   "source": [
    "We are able to differentiate between uppercase and lowercase letters, hence our dictionary will be case sensitive, meaning for example that \"the\" and \"The\" will be counted as different words despite being the same one.\n",
    "\n",
    "One quick fix would be to lowercase every single word:"
   ]
  },
  {
   "cell_type": "code",
   "execution_count": null,
   "id": "a577a88d",
   "metadata": {},
   "outputs": [],
   "source": [
    "def main():\n",
    "    counts = {}\n",
    "    words = get_words(\"address.txt\")  # this opens up the address.txt file as a list of all the words inside of it\n",
    "    lowercase_words = []\n",
    "\n",
    "    for word in lowercase_words:  # this iterates over every word in the list\n",
    "        if word in counts:\n",
    "            counts[word] += 1  # if the word has already been added it increases that word's count by one\n",
    "        else:\n",
    "            counts[word] = 1 # if the word hasn't been added to the dictionary this sets its count to one\n",
    "\n",
    "    save_counts(counts)  # this saves the dictionary as a csv file\n",
    "\n",
    "def get_words():\n",
    "    ...\n",
    "\n",
    "def save_counts(word, counts):\n",
    "    ...\n",
    "\n",
    "main()"
   ]
  },
  {
   "cell_type": "markdown",
   "id": "b7b1c4b2",
   "metadata": {},
   "source": [
    "It is also possible to do it through a \"list comprehension\", a way to build up a list from a list we already have.\n",
    "\n",
    "In this case we want to get the original list and transform in a list of all lowercase words:"
   ]
  },
  {
   "cell_type": "code",
   "execution_count": null,
   "id": "9a092a0e",
   "metadata": {},
   "outputs": [],
   "source": [
    "def main():\n",
    "    counts = {}\n",
    "    words = get_words(\"address.txt\")  # this opens up the address.txt file as a list of all the words inside of it\n",
    "    lowercase_words = [word.lower() for word in words] # for every word in the words list it gives us back the same element \"word\" but lowercased. this creates a new list with all words as word.lowercase\n",
    "\n",
    "    for word in lowercase_words:  # this iterates over every word in the list\n",
    "        if word in counts:\n",
    "            counts[word] += 1  # if the word has already been added it increases that word's count by one\n",
    "        else:\n",
    "            counts[word] = 1 # if the word hasn't been added to the dictionary this sets its count to one\n",
    "\n",
    "    save_counts(counts)  # this saves the dictionary as a csv file\n",
    "\n",
    "def get_words():\n",
    "    ...\n",
    "\n",
    "def save_counts(word, counts):\n",
    "    ...\n",
    "\n",
    "main()"
   ]
  },
  {
   "cell_type": "markdown",
   "id": "16a9f930",
   "metadata": {},
   "source": [
    "If we were able to run this program we would get a lowercased list as expected.\n",
    "\n",
    "Now what if we wanted to get a list of words that meet specific criterias:"
   ]
  },
  {
   "cell_type": "code",
   "execution_count": null,
   "id": "f546cbf4",
   "metadata": {},
   "outputs": [],
   "source": [
    "def main():\n",
    "    counts = {}\n",
    "    words = get_words(\"address.txt\")\n",
    "    lowercase_words = [word.lower() for word in words if len(word) > 4] # this only takes into consideration words that are longer than 4 letters\n",
    "\n",
    "    for word in lowercase_words:\n",
    "        if word in counts:\n",
    "            counts[word] += 1\n",
    "        else:\n",
    "            counts[word] = 1\n",
    "\n",
    "    save_counts(counts)\n",
    "\n",
    "def get_words():\n",
    "    ...\n",
    "\n",
    "def save_counts(word, counts):\n",
    "    ...\n",
    "\n",
    "main()"
   ]
  },
  {
   "cell_type": "markdown",
   "id": "b8b07a6b",
   "metadata": {},
   "source": [
    "It is possible to simplify the for and if/else loops through a dictionary comprehension:"
   ]
  },
  {
   "cell_type": "code",
   "execution_count": null,
   "id": "3c493af0",
   "metadata": {},
   "outputs": [],
   "source": [
    "from helpers import get_words, save_counts   # this imports pre-made functions from a library of functions\n",
    "\n",
    "def main():\n",
    "    counts = {}\n",
    "    words = get_words(\"address.txt\")\n",
    "    lowercase_words = [word.lower() for word in words if len(word) > 4]\n",
    "\n",
    "    counts = {word: lowercase_words.count(word) for word in lowercase_words} # this creates a key:value dictionary as word:\"word count\"\n",
    "\n",
    "    save_counts(counts)\n",
    "\n",
    "def get_words():\n",
    "    ...\n",
    "\n",
    "def save_counts(word, counts):\n",
    "    ...\n",
    "\n",
    "main()"
   ]
  },
  {
   "cell_type": "markdown",
   "id": "03b3e0a5",
   "metadata": {},
   "source": [
    "6th Short - List Methods"
   ]
  },
  {
   "cell_type": "markdown",
   "id": "0a12b85c",
   "metadata": {},
   "source": [
    "We want to store the solutions of a minigame (through movements like \"up\", \"down\", \"left\" and \"right\") in a list:"
   ]
  },
  {
   "cell_type": "code",
   "execution_count": null,
   "id": "c3071ac5",
   "metadata": {},
   "outputs": [],
   "source": [
    "# sokoban.py\n",
    "\n",
    "# take actions as imputs and store them in a list\n",
    "\n",
    "def main():\n",
    "    history = []\n",
    "\n",
    "    while True:\n",
    "        action = input(\"Action: \")\n",
    "        history.append(action)\n",
    "        print(history)\n",
    "\n",
    "main()"
   ]
  },
  {
   "cell_type": "markdown",
   "id": "921dd414",
   "metadata": {},
   "source": [
    "In our game it is also possible to undo actions, so how do we integrate it in our program:"
   ]
  },
  {
   "cell_type": "code",
   "execution_count": null,
   "id": "f33c4bec",
   "metadata": {},
   "outputs": [],
   "source": [
    "def main():\n",
    "    history = []\n",
    "\n",
    "    while True:\n",
    "        action = input(\"Action: \")\n",
    "\n",
    "        if action == \"Undo\":\n",
    "            undone = history.pop()  # this will remove the last item in the list\n",
    "            print(f\"Undone: {undone}\")\n",
    "        else:\n",
    "            history.append(action)\n",
    "\n",
    "        print(history)\n",
    "\n",
    "main()"
   ]
  },
  {
   "cell_type": "markdown",
   "id": "55727884",
   "metadata": {},
   "source": [
    "If we wanted to reset every input we would have to do it manually, unless we add another list method:"
   ]
  },
  {
   "cell_type": "code",
   "execution_count": null,
   "id": "ab279ce6",
   "metadata": {},
   "outputs": [],
   "source": [
    "def main():\n",
    "    history = []\n",
    "\n",
    "    while True:\n",
    "        action = input(\"Action: \")\n",
    "\n",
    "        if action == \"Undo\":\n",
    "            undone = history.pop()  # this will remove the last item in the list\n",
    "            print(f\"Undone: {undone}\")\n",
    "        elif action == \"Restart\":\n",
    "            history.clear()  # this will remove every element of our list\n",
    "        else:\n",
    "            history.append(action)\n",
    "\n",
    "        print(history)\n",
    "\n",
    "main()"
   ]
  },
  {
   "cell_type": "markdown",
   "id": "545e4025",
   "metadata": {},
   "source": [
    "7th Short - List Methods"
   ]
  },
  {
   "cell_type": "markdown",
   "id": "bb608e61",
   "metadata": {},
   "source": [
    "When working with user inputted data, we may need to format this data in order to make it better visually and for our code to interpret, luckily strings come with methods that can help us with that:"
   ]
  },
  {
   "cell_type": "code",
   "execution_count": 5,
   "id": "4283e8a2",
   "metadata": {},
   "outputs": [
    {
     "name": "stdout",
     "output_type": "stream",
     "text": [
      " Avatar: the last airbender\n",
      "Ben 10\n",
      " Spongebob Squarepants\n",
      "Phineas and ferb\n",
      "Kim possible\n",
      "Jimmy Neutron\n",
      "the Proud family\n"
     ]
    }
   ],
   "source": [
    "def main():\n",
    "    SHOWS = [\n",
    "    \" Avatar: the last airbender\",\n",
    "    \"Ben 10\",\n",
    "    \" Spongebob Squarepants\",\n",
    "    \"Phineas and ferb\",\n",
    "    \"Kim possible\",\n",
    "    \"Jimmy Neutron\",\n",
    "    \"the Proud family\"\n",
    "]\n",
    "\n",
    "    for show in SHOWS:\n",
    "        print(show)\n",
    "\n",
    "main()"
   ]
  },
  {
   "cell_type": "markdown",
   "id": "feafb9dd",
   "metadata": {},
   "source": [
    "The first method will take the first word and capitalize it:"
   ]
  },
  {
   "cell_type": "code",
   "execution_count": 6,
   "id": "442446c7",
   "metadata": {},
   "outputs": [
    {
     "name": "stdout",
     "output_type": "stream",
     "text": [
      " avatar: the last airbender\n",
      "Ben 10\n",
      " spongebob squarepants\n",
      "Phineas and ferb\n",
      "Kim possible\n",
      "Jimmy neutron\n",
      "The proud family\n"
     ]
    }
   ],
   "source": [
    "def main():\n",
    "    SHOWS = [\n",
    "    \" Avatar: the last airbender\",\n",
    "    \"Ben 10\",\n",
    "    \" Spongebob Squarepants\",\n",
    "    \"Phineas and ferb\",\n",
    "    \"Kim possible\",\n",
    "    \"Jimmy Neutron\",\n",
    "    \"the Proud family\"\n",
    "]\n",
    "\n",
    "    for show in SHOWS:\n",
    "        print(show.capitalize())\n",
    "\n",
    "main()"
   ]
  },
  {
   "cell_type": "markdown",
   "id": "a45cf7a4",
   "metadata": {},
   "source": [
    "Now this kinda works. The problem is that the program sees the blank space \" \" as its own words and capitalizes that (which does nothing). There's another way to do this:"
   ]
  },
  {
   "cell_type": "code",
   "execution_count": 7,
   "id": "0ec10253",
   "metadata": {},
   "outputs": [
    {
     "name": "stdout",
     "output_type": "stream",
     "text": [
      " Avatar: The Last Airbender\n",
      "Ben 10\n",
      " Spongebob Squarepants\n",
      "Phineas And Ferb\n",
      "Kim Possible\n",
      "Jimmy Neutron\n",
      "The Proud Family\n"
     ]
    }
   ],
   "source": [
    "def main():\n",
    "    SHOWS = [\n",
    "    \" Avatar: the last airbender\",\n",
    "    \"Ben 10\",\n",
    "    \" Spongebob Squarepants\",\n",
    "    \"Phineas and ferb\",\n",
    "    \"Kim possible\",\n",
    "    \"Jimmy Neutron\",\n",
    "    \"the Proud family\"\n",
    "]\n",
    "\n",
    "    for show in SHOWS:\n",
    "        print(show.title())\n",
    "\n",
    "main()"
   ]
  },
  {
   "cell_type": "markdown",
   "id": "aee6a650",
   "metadata": {},
   "source": [
    "Now every single word has been capitalized, this is a bit better.\n",
    "\n",
    "We now want to get rid of whitespaces at each end of these show names:"
   ]
  },
  {
   "cell_type": "code",
   "execution_count": 8,
   "id": "c2d5226a",
   "metadata": {},
   "outputs": [
    {
     "name": "stdout",
     "output_type": "stream",
     "text": [
      "Avatar: The Last Airbender\n",
      "Ben 10\n",
      "Spongebob Squarepants\n",
      "Phineas And Ferb\n",
      "Kim Possible\n",
      "Jimmy Neutron\n",
      "The Proud Family\n"
     ]
    }
   ],
   "source": [
    "def main():\n",
    "    SHOWS = [\n",
    "    \" Avatar: the last airbender\",\n",
    "    \"Ben 10\",\n",
    "    \" Spongebob Squarepants\",\n",
    "    \"Phineas and ferb\",\n",
    "    \"Kim possible\",\n",
    "    \"Jimmy Neutron\",\n",
    "    \"the Proud family\"\n",
    "]\n",
    "\n",
    "    for show in SHOWS:\n",
    "        print(show.strip().title())\n",
    "\n",
    "main()"
   ]
  },
  {
   "cell_type": "markdown",
   "id": "0c93ea37",
   "metadata": {},
   "source": [
    "We can see that it is possible to chain string methods without losing any of their actions. \n",
    "\n",
    "What if we wanted to put these names into a new list:"
   ]
  },
  {
   "cell_type": "code",
   "execution_count": 9,
   "id": "42009b54",
   "metadata": {},
   "outputs": [
    {
     "name": "stdout",
     "output_type": "stream",
     "text": [
      "['Avatar: The Last Airbender', 'Ben 10', 'Spongebob Squarepants', 'Phineas And Ferb', 'Kim Possible', 'Jimmy Neutron', 'The Proud Family']\n"
     ]
    }
   ],
   "source": [
    "def main():\n",
    "    SHOWS = [\n",
    "    \" Avatar: the last airbender\",\n",
    "    \"Ben 10\",\n",
    "    \" Spongebob Squarepants\",\n",
    "    \"Phineas and ferb\",\n",
    "    \"Kim possible\",\n",
    "    \"Jimmy Neutron\",\n",
    "    \"the Proud family\"\n",
    "]\n",
    "    cleaned_shows = []\n",
    "    for show in SHOWS:\n",
    "        cleaned_shows.append(show.strip().title())\n",
    "    print(cleaned_shows)\n",
    "\n",
    "main()"
   ]
  },
  {
   "cell_type": "markdown",
   "id": "70540fa2",
   "metadata": {},
   "source": [
    "This isn't the best way to print a list, it has those square brackets and single quotes typical of Python, so how do we \"better print\" this list?"
   ]
  },
  {
   "cell_type": "code",
   "execution_count": null,
   "id": "3ecc14a5",
   "metadata": {},
   "outputs": [
    {
     "name": "stdout",
     "output_type": "stream",
     "text": [
      "Avatar: The Last Airbender Ben 10 Spongebob Squarepants Phineas And Ferb Kim Possible Jimmy Neutron The Proud Family\n"
     ]
    }
   ],
   "source": [
    "def main():\n",
    "    SHOWS = [\n",
    "    \" Avatar: the last airbender\",\n",
    "    \"Ben 10\",\n",
    "    \" Spongebob Squarepants\",\n",
    "    \"Phineas and ferb\",\n",
    "    \"Kim possible\",\n",
    "    \"Jimmy Neutron\",\n",
    "    \"the Proud family\"\n",
    "]\n",
    "    cleaned_shows = []\n",
    "    for show in SHOWS:\n",
    "        cleaned_shows.append(show.strip().title())\n",
    "\n",
    "    print(' '.join(cleaned_shows)) # join takes in a string which it uses to join the arguments of the list given as its argument\n",
    "\n",
    "main()"
   ]
  },
  {
   "cell_type": "markdown",
   "id": "f4358be5",
   "metadata": {},
   "source": [
    "    8th Short - String Slicing"
   ]
  },
  {
   "cell_type": "code",
   "execution_count": null,
   "id": "48a21f2c",
   "metadata": {},
   "outputs": [],
   "source": [
    "# phone.py\n",
    "\n",
    "def main():\n",
    "    phone = \"617-495-1000\"  # the first 3 digits are the area code and the last 4 digits may be used as security for example for 2fa\n",
    "    print(phone)\n",
    "\n",
    "main()"
   ]
  },
  {
   "cell_type": "markdown",
   "id": "9a880ce4",
   "metadata": {},
   "source": [
    "What if we wanted to find only the first three digits of this string:"
   ]
  },
  {
   "cell_type": "code",
   "execution_count": null,
   "id": "bba5881b",
   "metadata": {},
   "outputs": [],
   "source": [
    "# phone.py\n",
    "\n",
    "def main():\n",
    "    phone = \"617-495-1000\"\n",
    "    print(phone[0:3])  # this means that it will print from index 0 (included) to index 3 (not included), meaning only indexes 0,1 and 2 will be printed (0 can be omitted if we want to print from the first element)\n",
    "main()"
   ]
  },
  {
   "cell_type": "markdown",
   "id": "6572a2f2",
   "metadata": {},
   "source": [
    "The same thing can be used for any range of indexes:"
   ]
  },
  {
   "cell_type": "code",
   "execution_count": null,
   "id": "eafb93ee",
   "metadata": {},
   "outputs": [],
   "source": [
    "# phone.py\n",
    "\n",
    "def main():\n",
    "    phone = \"617-495-1000\"\n",
    "    print(phone[8:11]) # the 11 can be omitted if we want to print till the last element\n",
    "\n",
    "main()"
   ]
  },
  {
   "cell_type": "markdown",
   "id": "891a585d",
   "metadata": {},
   "source": [
    "I still don't really like this way of printing, what if the number changed? How would we deal with that?\n",
    "\n",
    "If the characters we want to print are always at the end of the string, Python has a useful way of indexing in order to directly access them no matter what happens at the beginning of the string:"
   ]
  },
  {
   "cell_type": "code",
   "execution_count": null,
   "id": "9bc09285",
   "metadata": {},
   "outputs": [
    {
     "name": "stdout",
     "output_type": "stream",
     "text": [
      "1000\n"
     ]
    }
   ],
   "source": [
    "# phone.py\n",
    "\n",
    "def main():\n",
    "    phone = \"617-495-1000\"\n",
    "    print(phone[-4:]) # this counts 4 indexes from the end of the string, meaning this will print -4, -3, -2 and -1 (which is always the last number)\n",
    "\n",
    "main()"
   ]
  },
  {
   "cell_type": "markdown",
   "id": "121762a5",
   "metadata": {},
   "source": [
    "    9th Short - Tuples"
   ]
  },
  {
   "cell_type": "markdown",
   "id": "29fd7dbb",
   "metadata": {},
   "source": [
    "A way of knowing where one person is, is through the use of lines of latitude (how far north or south) and longitude (how far east or west). These can be merged to give a precise location on (for example) our globe.\n",
    "\n",
    "How can we represent this in code?"
   ]
  },
  {
   "cell_type": "code",
   "execution_count": 12,
   "id": "c0e29bd7",
   "metadata": {},
   "outputs": [
    {
     "name": "stdout",
     "output_type": "stream",
     "text": [
      "Latitude: 42.376\n",
      "Longitude: -71.115\n"
     ]
    }
   ],
   "source": [
    "# location.py\n",
    "\n",
    "def main():\n",
    "    coordinates = (42.376, -71.115) # this is a tuple, which is helpful to store these coordinates\n",
    "    print(f\"Latitude: {coordinates[0]}\")\n",
    "    print(f\"Longitude: {coordinates[1]}\")\n",
    "\n",
    "main()"
   ]
  },
  {
   "cell_type": "markdown",
   "id": "1c4c3a21",
   "metadata": {},
   "source": [
    "It is possible to \"unpack\" a tuple by dividing its arguments into different variables:"
   ]
  },
  {
   "cell_type": "code",
   "execution_count": null,
   "id": "c531944e",
   "metadata": {},
   "outputs": [],
   "source": [
    "def main():\n",
    "    coordinates = (42.376, -71.115) # this is a tuple, which is helpful to store these coordinates\n",
    "    latitude, longitude = coordinates  # the first value will go to the first variable, the second value will go to the second variable and so forth\n",
    "    print(f\"Latitude: {coordinates[0]}\")\n",
    "    print(f\"Longitude: {coordinates[1]}\")\n",
    "\n",
    "main()"
   ]
  },
  {
   "cell_type": "markdown",
   "id": "56935162",
   "metadata": {},
   "source": [
    "Tuples look a lot like lists, so why don't we use these instead of lists? \n",
    "\n",
    "Tuples come with a big tradeoff, we can't add values to a tuple.\n",
    "\n",
    "If I'm sure I will never change the values in a list, using a tuple instead would be beneficial. Otherwise a list will always be arguably better."
   ]
  },
  {
   "cell_type": "code",
   "execution_count": 13,
   "id": "f8ee2b17",
   "metadata": {},
   "outputs": [
    {
     "name": "stdout",
     "output_type": "stream",
     "text": [
      "56 bytes\n",
      "72 bytes\n"
     ]
    }
   ],
   "source": [
    "import sys\n",
    "\n",
    "def main():\n",
    "    coordinate_tuple = (42.376, -71.115)\n",
    "    coordinate_list = [42.376, -71.115]\n",
    "    print(f\"{sys.getsizeof(coordinate_tuple)} bytes\")\n",
    "    print(f\"{sys.getsizeof(coordinate_list)} bytes\")\n",
    "\n",
    "main()"
   ]
  },
  {
   "cell_type": "markdown",
   "id": "e2fe2721",
   "metadata": {},
   "source": [
    "We now see that a tuple is a more efficient way (in terms of memory) than a list, so it can be really useful for massive amounts of unchanging data."
   ]
  },
  {
   "cell_type": "markdown",
   "id": "50620b88",
   "metadata": {},
   "source": [
    "    10th Short - While Loops"
   ]
  },
  {
   "cell_type": "code",
   "execution_count": null,
   "id": "08cf6e30",
   "metadata": {},
   "outputs": [],
   "source": [
    "# water.py\n",
    "# we want to check the moisture level once a day of a plant to know when to water it\n",
    "\n",
    "from soil import sample  # this function has been written elsewhere\n",
    "\n",
    "def main():\n",
    "    moisture = sample()\n",
    "    days = 0\n",
    "    print(f\"Day {days}: Moisture is {moisture}%\")\n",
    "\n",
    "    while moisture > 20:  # this loop will run till this while returns True, else it will stop running the loop\n",
    "        moisture = sample()\n",
    "        days += 1 # this will keep track of how many days this loop ran through\n",
    "        print(f\"Day {days}: Moisture is {moisture}%\")\n",
    "\n",
    "    print(\"Time to water!\")\n",
    "\n",
    "main()"
   ]
  },
  {
   "cell_type": "markdown",
   "id": "f9990897",
   "metadata": {},
   "source": [
    "We want this program to keep checking until the soil is dry, and at that point alert the user and stop checking.\n",
    "\n",
    "A while loop is useful when we aren't really sure about how many times we are going through the loop."
   ]
  }
 ],
 "metadata": {
  "kernelspec": {
   "display_name": ".venv",
   "language": "python",
   "name": "python3"
  },
  "language_info": {
   "codemirror_mode": {
    "name": "ipython",
    "version": 3
   },
   "file_extension": ".py",
   "mimetype": "text/x-python",
   "name": "python",
   "nbconvert_exporter": "python",
   "pygments_lexer": "ipython3",
   "version": "3.12.3"
  }
 },
 "nbformat": 4,
 "nbformat_minor": 5
}
