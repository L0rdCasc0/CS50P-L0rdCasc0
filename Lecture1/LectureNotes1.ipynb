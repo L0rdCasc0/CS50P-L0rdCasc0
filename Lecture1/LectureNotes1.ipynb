{
 "cells": [
  {
   "cell_type": "markdown",
   "id": "725be4ac",
   "metadata": {},
   "source": [
    "    1 - Conditionals\n",
    "    "
   ]
  },
  {
   "cell_type": "markdown",
   "id": "832186d4",
   "metadata": {},
   "source": [
    "These are statements in Python that are able to ask questions and reply to these questions in order to take different actions.\n",
    "\n",
    "So how do we go on how to choose these actions? Python comes in with a built-in set of \"questions\":"
   ]
  },
  {
   "cell_type": "code",
   "execution_count": null,
   "id": "618977bd",
   "metadata": {},
   "outputs": [],
   "source": [
    ">    # greater than\n",
    ">=   # greater than or equal to\n",
    "<    # less than\n",
    "<=   # less than or equal to\n",
    "==   # equal to\n",
    "!=   # not equal to"
   ]
  },
  {
   "cell_type": "markdown",
   "id": "682625ef",
   "metadata": {},
   "source": [
    "    1.1 How to ask questions"
   ]
  },
  {
   "cell_type": "markdown",
   "id": "60ee29a5",
   "metadata": {},
   "source": [
    "The easiest question to ask in Python is an \"if\" statement, resulting in \"true\" or \"false\" outputs."
   ]
  },
  {
   "cell_type": "code",
   "execution_count": null,
   "id": "54b8681b",
   "metadata": {},
   "outputs": [
    {
     "name": "stdout",
     "output_type": "stream",
     "text": [
      "x is equal to y\n"
     ]
    }
   ],
   "source": [
    "# compare.py\n",
    "# we want to build a program that compares values and takes actions based on the comparison\n",
    "\n",
    "def main():\n",
    "    x = int(input(\"What's x? \"))\n",
    "    y = int(input(\"What's y= \"))\n",
    "\n",
    "    if x < y:\n",
    "        print(\"x is less than y\")    # the lines indented after an \"if\" statement will be executed only if the if statement\n",
    "                                     # results in a \"true\" output\n",
    "    if x > y:\n",
    "        print(\"x is greather than y\")\n",
    "    if x == y:\n",
    "        print(\"x is equal to y\")\n",
    "\n",
    "main()\n",
    "\n",
    "\n"
   ]
  },
  {
   "cell_type": "markdown",
   "id": "3e28c8dc",
   "metadata": {},
   "source": [
    "This code seems a little too repetitive, there are so many \"if\" statements that the code has to run through even tho the previous lines may be correct.\n",
    "\n",
    "We can introduce other statements to make our code more readable and less repetitive:\n",
    "\n",
    "  \"elif\": aka \"else if\""
   ]
  },
  {
   "cell_type": "code",
   "execution_count": null,
   "id": "bba5d285",
   "metadata": {},
   "outputs": [],
   "source": [
    "# compare.py\n",
    "# we want to build a program that compares values and takes actions based on the comparison (but with less questions)\n",
    "# we want to make these questions mutually exclusive\n",
    "\n",
    "def main():\n",
    "    x = int(input(\"What's x? \"))\n",
    "    y = int(input(\"What's y= \"))\n",
    "\n",
    "    if x < y:\n",
    "        print(\"x is less than y\")\n",
    "    elif x > y:\n",
    "        print(\"x is greather than y\")\n",
    "    elif x == y:\n",
    "        print(\"x is equal to y\")\n",
    "\n",
    "    # the two elif statements will be run only if the previous statements returned \"false\"\n",
    "\n",
    "main()"
   ]
  },
  {
   "cell_type": "markdown",
   "id": "c0253423",
   "metadata": {},
   "source": [
    "Another keyword that helps us make the code better is another statement to go with \"if\", an \"else\" statement."
   ]
  },
  {
   "cell_type": "code",
   "execution_count": null,
   "id": "27cd0439",
   "metadata": {},
   "outputs": [],
   "source": [
    "# compare.py\n",
    "# we want to build a program that compares values and takes actions based on the comparison (but with less questions)\n",
    "# we want to make these questions mutually exclusive\n",
    "\n",
    "def main():\n",
    "    x = int(input(\"What's x? \"))\n",
    "    y = int(input(\"What's y= \"))\n",
    "\n",
    "    if x < y:\n",
    "        print(\"x is less than y\")\n",
    "    elif x > y:\n",
    "        print(\"x is greather than y\")\n",
    "    else:\n",
    "        print(\"x is equal to y\")\n",
    "\n",
    "    # we don't need to ask the third question since there are only three possible cases, this lets us skip one of the three checks and\n",
    "    # that makes our code faster and lighter\n",
    "\n",
    "main()"
   ]
  },
  {
   "cell_type": "markdown",
   "id": "6a9bd679",
   "metadata": {},
   "source": [
    "Yet another helpful statement is the \"or\" statement, which will be used just like it's used in the english language."
   ]
  },
  {
   "cell_type": "code",
   "execution_count": 5,
   "id": "ab547444",
   "metadata": {},
   "outputs": [
    {
     "name": "stdout",
     "output_type": "stream",
     "text": [
      "x is equal to y\n"
     ]
    }
   ],
   "source": [
    "def main():\n",
    "    x = int(input(\"What's x? \"))\n",
    "    y = int(input(\"What's y= \"))\n",
    "\n",
    "    if x < y or x > y:\n",
    "        print(\"x is not equal to y\")\n",
    "    else:\n",
    "        print(\"x is equal to y\")\n",
    "\n",
    "main()"
   ]
  },
  {
   "cell_type": "markdown",
   "id": "87a7f5db",
   "metadata": {},
   "source": [
    "We can improve this code further, being a little nitpicky:"
   ]
  },
  {
   "cell_type": "code",
   "execution_count": null,
   "id": "05fe5861",
   "metadata": {},
   "outputs": [],
   "source": [
    "ef main():\n",
    "    x = int(input(\"What's x? \"))\n",
    "    y = int(input(\"What's y= \"))\n",
    "\n",
    "    if x != y:  # this lets the code ask a single question instead of two\n",
    "        print(\"x is not equal to y\")\n",
    "    else:\n",
    "        print(\"x is equal to y\")\n",
    "\n",
    "main()"
   ]
  },
  {
   "cell_type": "markdown",
   "id": "3c49d7f0",
   "metadata": {},
   "source": [
    "Yet yet another useful statement is the \"and\" statement:"
   ]
  },
  {
   "cell_type": "code",
   "execution_count": 10,
   "id": "828745d9",
   "metadata": {},
   "outputs": [
    {
     "name": "stdout",
     "output_type": "stream",
     "text": [
      "Grade: F\n"
     ]
    }
   ],
   "source": [
    "# grade.py\n",
    "\n",
    "def main():\n",
    "    score = int(input(\"Score: \"))\n",
    "\n",
    "    if score >= 90 and score <= 100:\n",
    "        print(\"Grade: A\")\n",
    "    elif score >= 80 and score < 90:\n",
    "        print(\"Grade: B\")\n",
    "    elif score >= 70 and score < 80:\n",
    "        print(\"Grade: C\")\n",
    "    elif score >= 60 and score < 70:\n",
    "        print(\"Grade: D\")\n",
    "    else:\n",
    "        print(\"Grade: F\")\n",
    "\n",
    "main()"
   ]
  },
  {
   "cell_type": "markdown",
   "id": "62063671",
   "metadata": {},
   "source": [
    "This code is correct but we can increase the efficiency and readability of it while reducing the chance of bugs occurring:"
   ]
  },
  {
   "cell_type": "code",
   "execution_count": 11,
   "id": "7a48fb13",
   "metadata": {},
   "outputs": [
    {
     "name": "stdout",
     "output_type": "stream",
     "text": [
      "Grade: A\n"
     ]
    }
   ],
   "source": [
    "def main():\n",
    "    score = int(input(\"Score: \"))\n",
    "\n",
    "    if score >= 90:\n",
    "        print(\"Grade: A\")\n",
    "    elif score >= 80:\n",
    "        print(\"Grade: B\")\n",
    "    elif score >= 70:\n",
    "        print(\"Grade: C\")\n",
    "    elif score >= 60:\n",
    "        print(\"Grade: D\")\n",
    "    else:\n",
    "        print(\"Grade: F\")\n",
    "\n",
    "main()"
   ]
  },
  {
   "cell_type": "markdown",
   "id": "6b2ef797",
   "metadata": {},
   "source": [
    "If we used only \"if\" statements instead of \"elif\" statements the code would return every single grade since the program checks every single question."
   ]
  },
  {
   "cell_type": "markdown",
   "id": "72080f73",
   "metadata": {},
   "source": [
    "There are more arithmetic symbols that Python likes to use:"
   ]
  },
  {
   "cell_type": "code",
   "execution_count": null,
   "id": "c1a83315",
   "metadata": {},
   "outputs": [],
   "source": [
    "+   # addition\n",
    "-   # subtraction\n",
    "*   # multiplication\n",
    "/   # division\n",
    "%   # modulo operator"
   ]
  },
  {
   "cell_type": "code",
   "execution_count": 17,
   "id": "0378ec84",
   "metadata": {},
   "outputs": [
    {
     "name": "stdout",
     "output_type": "stream",
     "text": [
      "3 is an odd number\n"
     ]
    }
   ],
   "source": [
    "# parity.py\n",
    "# we want to check if any given number is odd or even\n",
    "\n",
    "def main():\n",
    "    x = int(input(\"What's x? \"))\n",
    "\n",
    "    if x % 2 == 0:\n",
    "        print(f\"{x} is an even number\")\n",
    "    else:\n",
    "        print(f\"{x} is an odd number\")\n",
    "\n",
    "main()"
   ]
  },
  {
   "cell_type": "markdown",
   "id": "5c86d04c",
   "metadata": {},
   "source": [
    "We can improve this code by creating our own function:"
   ]
  },
  {
   "cell_type": "code",
   "execution_count": 20,
   "id": "f2b6b6fe",
   "metadata": {},
   "outputs": [
    {
     "name": "stdout",
     "output_type": "stream",
     "text": [
      "124 is an even number\n"
     ]
    }
   ],
   "source": [
    "def main():\n",
    "    x = int(input(\"What's x? \"))\n",
    "\n",
    "    if is_even(x):\n",
    "        print(f\"{x} is an even number\")\n",
    "    else:\n",
    "        print(f\"{x} is an odd number\")\n",
    "\n",
    "def is_even(n):\n",
    "    if n % 2 == 0:\n",
    "        return True\n",
    "    else:\n",
    "        return False\n",
    "\n",
    "main()"
   ]
  },
  {
   "cell_type": "markdown",
   "id": "603c508c",
   "metadata": {},
   "source": [
    "This function we wrote returns a new varieble: a Boolean\n",
    "\n",
    "A boolean is a value that only takes on two values: True or False"
   ]
  },
  {
   "cell_type": "markdown",
   "id": "f3192b78",
   "metadata": {},
   "source": [
    "It is possible to make this code even better:"
   ]
  },
  {
   "cell_type": "code",
   "execution_count": 22,
   "id": "bac0be5b",
   "metadata": {},
   "outputs": [
    {
     "name": "stdout",
     "output_type": "stream",
     "text": [
      "3 is an odd number\n"
     ]
    }
   ],
   "source": [
    "def main():\n",
    "    x = int(input(\"What's x? \"))\n",
    "\n",
    "    if is_even(x):\n",
    "        print(f\"{x} is an even number\")\n",
    "    else:\n",
    "        print(f\"{x} is an odd number\")\n",
    "\n",
    "def is_even(n):\n",
    "    return True if n % 2 == 0 else False  # we condensed 4 lines into 1\n",
    "\n",
    "main()"
   ]
  },
  {
   "cell_type": "markdown",
   "id": "97c0f856",
   "metadata": {},
   "source": [
    "Once again we can refine this code:"
   ]
  },
  {
   "cell_type": "code",
   "execution_count": null,
   "id": "ef3d8708",
   "metadata": {},
   "outputs": [],
   "source": [
    "def main():\n",
    "    x = int(input(\"What's x? \"))\n",
    "\n",
    "    if is_even(x):\n",
    "        print(f\"{x} is an even number\")\n",
    "    else:\n",
    "        print(f\"{x} is an odd number\")\n",
    "\n",
    "def is_even(n):\n",
    "    return (n % 2 == 0)   # the modulo operator followed by equal to returns automatically a boolean expression, without specifying True or False\n",
    "\n",
    "main()"
   ]
  },
  {
   "cell_type": "markdown",
   "id": "e48d5b30",
   "metadata": {},
   "source": [
    "There's another syntax to return the same idea of a conditional: \"match\""
   ]
  },
  {
   "cell_type": "code",
   "execution_count": 25,
   "id": "0de00c28",
   "metadata": {},
   "outputs": [
    {
     "name": "stdout",
     "output_type": "stream",
     "text": [
      "Who?\n"
     ]
    }
   ],
   "source": [
    "# house.py\n",
    "# we try to implement a program that, based on the inputted name of the user, it returns which harry potter house they belong to\n",
    "\n",
    "def main():\n",
    "    name = input(\"What's your name? \")\n",
    "\n",
    "    if name == \"Harry\":\n",
    "        print(\"Gryffindor\")\n",
    "    elif name == \"Hermione\":\n",
    "        print(\"Gryffindor\")\n",
    "    elif name == \"Ron\":\n",
    "        print(\"Gryffindor\")\n",
    "    elif name == \"Draco\":\n",
    "        print(\"Slytherin\")\n",
    "    else:\n",
    "        print(\"Who?\")\n",
    "\n",
    "main()"
   ]
  },
  {
   "cell_type": "markdown",
   "id": "22d5d173",
   "metadata": {},
   "source": [
    "This is a program in which every option has been hardcoded, we can make it better:"
   ]
  },
  {
   "cell_type": "code",
   "execution_count": 26,
   "id": "cf1890fc",
   "metadata": {},
   "outputs": [
    {
     "name": "stdout",
     "output_type": "stream",
     "text": [
      "Gryffindor\n"
     ]
    }
   ],
   "source": [
    "def main():\n",
    "    name = input(\"What's your name? \")\n",
    "\n",
    "    if name == \"Harry\" or name == \"Hermione\" or name == \"Ron\":\n",
    "        print(\"Gryffindor\")\n",
    "    elif name == \"Draco\":\n",
    "        print(\"Slytherin\")\n",
    "    else:\n",
    "        print(\"Who?\")\n",
    "\n",
    "main()"
   ]
  },
  {
   "cell_type": "markdown",
   "id": "ca375972",
   "metadata": {},
   "source": [
    "EVEN BETTER:"
   ]
  },
  {
   "cell_type": "code",
   "execution_count": 30,
   "id": "c3ff1621",
   "metadata": {},
   "outputs": [
    {
     "name": "stdout",
     "output_type": "stream",
     "text": [
      "Who?\n"
     ]
    }
   ],
   "source": [
    "def main():\n",
    "    name = input(\"What's your name? \")\n",
    "\n",
    "    match name:\n",
    "        case \"Harry\":\n",
    "            print(\"Gryffindor\")\n",
    "        case \"Hermione\":\n",
    "            print(\"Gryffindor\")\n",
    "        case \"Ron\":\n",
    "            print(\"Gryffindor\")\n",
    "        case \"Draco\":\n",
    "            print(\"Slytherin\")\n",
    "        case _ :   # this handles any case that doesn't match with those that have been specified\n",
    "            print(\"Who?\")\n",
    "\n",
    "main()"
   ]
  },
  {
   "cell_type": "markdown",
   "id": "67a2a207",
   "metadata": {},
   "source": [
    "Better again:"
   ]
  },
  {
   "cell_type": "code",
   "execution_count": 36,
   "id": "92365497",
   "metadata": {},
   "outputs": [
    {
     "name": "stdout",
     "output_type": "stream",
     "text": [
      "Gryffindor\n"
     ]
    }
   ],
   "source": [
    "def main():\n",
    "    name = input(\"What's your name? \").title()\n",
    "\n",
    "    match name:\n",
    "        case \"Harry\" | \"Hermione\" | \"Ron\":\n",
    "            print(\"Gryffindor\")\n",
    "        case \"Draco\":\n",
    "            print(\"Slytherin\")\n",
    "        case _ :   # this handles any case that doesn't match with those that have been specified\n",
    "            print(\"Who?\")\n",
    "\n",
    "main()"
   ]
  },
  {
   "cell_type": "markdown",
   "id": "02ae244c",
   "metadata": {},
   "source": [
    "This is just a more neat way of writing the previous codes."
   ]
  },
  {
   "cell_type": "markdown",
   "id": "8d002028",
   "metadata": {},
   "source": [
    "    1st Short - Conditionals"
   ]
  },
  {
   "cell_type": "code",
   "execution_count": 4,
   "id": "a56eb0c5",
   "metadata": {},
   "outputs": [
    {
     "name": "stdout",
     "output_type": "stream",
     "text": [
      "You might like Clock\n"
     ]
    }
   ],
   "source": [
    "# recommend.py\n",
    "# we want to build a program that recommends a card game to the user based on difficulty and number of players preferences\n",
    "\n",
    "def main():\n",
    "    difficulty = input(\"Difficult or Casual? \")\n",
    "    n_players = input(\"Multiplayer or Single-player? \")\n",
    "\n",
    "    if difficulty == \"Difficult\":   # meaning \"Difficult\" = True\n",
    "        if n_players == \"Multiplayer\":\n",
    "            recommend(\"Poker\")\n",
    "        else:\n",
    "            recommend(\"Klondike\")\n",
    "    else:\n",
    "        if n_players == \"Multiplayer\":\n",
    "            recommend(\"Hearts\")\n",
    "        else:\n",
    "            recommend(\"Clock\")\n",
    "\n",
    "def recommend(game):\n",
    "    print(\"You might like\", game)\n",
    "\n",
    "main()"
   ]
  },
  {
   "cell_type": "markdown",
   "id": "8cac87aa",
   "metadata": {},
   "source": [
    "What could go wrong with this code?  The user may not comply and input words that are not esplicitly included in the code.\n",
    "\n",
    "For example if the user inputted anything other than \"Difficult\" in the difficulty input, the program will run the \"else\" statement since it doesn't have a clear argument.\n",
    "\n",
    "How can we solve this?"
   ]
  },
  {
   "cell_type": "code",
   "execution_count": 6,
   "id": "94ba4d23",
   "metadata": {},
   "outputs": [
    {
     "name": "stdout",
     "output_type": "stream",
     "text": [
      "Enter a valid number of players\n"
     ]
    }
   ],
   "source": [
    "# recommend.py\n",
    "# we want to build a program that recommends a card game to the user based on difficulty and number of players preferences\n",
    "\n",
    "def main():\n",
    "    difficulty = input(\"Difficult or Casual? \")\n",
    "    n_players = input(\"Multiplayer or Single-player? \")\n",
    "\n",
    "    if difficulty == \"Difficult\":   # meaning \"Difficult\" = True\n",
    "        if n_players == \"Multiplayer\":\n",
    "            recommend(\"Poker\")\n",
    "        elif n_players == \"Single-player\":\n",
    "            recommend(\"Klondike\")\n",
    "        else:\n",
    "            print(\"Enter a valid number of players\")\n",
    "    elif difficulty == \"Casual\":\n",
    "        if n_players == \"Multiplayer\":\n",
    "            recommend(\"Hearts\")\n",
    "        elif n_players == \"Single-player\":\n",
    "            recommend(\"Clock\")\n",
    "        else:\n",
    "            print(\"Enter a valid number of players\")\n",
    "    else:\n",
    "        print(\"Enter a valid difficulty\")\n",
    "\n",
    "def recommend(game):\n",
    "    print(\"You might like\", game)\n",
    "\n",
    "main()"
   ]
  },
  {
   "cell_type": "markdown",
   "id": "fea788e3",
   "metadata": {},
   "source": [
    "This puts less trust in the user, but it works much better!"
   ]
  },
  {
   "cell_type": "markdown",
   "id": "57166651",
   "metadata": {},
   "source": [
    "    2nd Short - Boolean Expressions"
   ]
  },
  {
   "cell_type": "markdown",
   "id": "42165044",
   "metadata": {},
   "source": [
    "Can we improve the design of our previous code?\n",
    "\n",
    "It has a lot of repetition, asking multiple time the same question.\n",
    "\n",
    "Can we check if the user inputted the right answer at the beginning of the code?"
   ]
  },
  {
   "cell_type": "code",
   "execution_count": null,
   "id": "8032b9a5",
   "metadata": {},
   "outputs": [],
   "source": [
    "# recommend.py\n",
    "# we want to build a program that recommends a card game to the user based on difficulty and number of players preferences\n",
    "\n",
    "def main():\n",
    "    difficulty = input(\"Difficult or Casual? \")\n",
    "    if not (difficulty == \"Difficult\" or difficulty == \"Casual\"): # if the user inputted \"Difficult\" or \"Casual\" this command will return False\n",
    "        print(\"Enter a valid difficulty\")  # this line will not be run if the previous statement returned False\n",
    "        return  # this makes our code end right now if the user inputted a wrong input\n",
    "\n",
    "    n_players = input(\"Multiplayer or Single-player? \")\n",
    "    if not (n_players == \"Multiplayer\" or n_players == \"Single-player\"):\n",
    "        print(\"Enter a valid number of players\")\n",
    "        return\n",
    "\n",
    "    if difficulty == \"Difficult\":   # meaning \"Difficult\" = True\n",
    "        if n_players == \"Multiplayer\":\n",
    "            recommend(\"Poker\")\n",
    "        elif n_players == \"Single-player\":\n",
    "            recommend(\"Klondike\")\n",
    "    elif difficulty == \"Casual\":\n",
    "        if n_players == \"Multiplayer\":\n",
    "            recommend(\"Hearts\")\n",
    "        elif n_players == \"Single-player\":\n",
    "            recommend(\"Clock\")\n",
    "\n",
    "def recommend(game):\n",
    "    print(\"You might like\", game)\n",
    "\n",
    "main()"
   ]
  },
  {
   "cell_type": "markdown",
   "id": "4af3ce5c",
   "metadata": {},
   "source": [
    "We can make this a little more readable by combining the if-elif questions"
   ]
  },
  {
   "cell_type": "code",
   "execution_count": 14,
   "id": "641b9601",
   "metadata": {},
   "outputs": [
    {
     "name": "stdout",
     "output_type": "stream",
     "text": [
      "You might like Clock\n"
     ]
    }
   ],
   "source": [
    "# recommend.py\n",
    "# we want to build a program that recommends a card game to the user based on difficulty and number of players preferences\n",
    "\n",
    "def main():\n",
    "    difficulty = input(\"Difficult or Casual? \")\n",
    "    if not (difficulty == \"Difficult\" or difficulty == \"Casual\"): # if the user inputted \"Difficult\" or \"Casual\" this command will return False\n",
    "        print(\"Enter a valid difficulty\")  # this line will not be run if the previous statement returned False\n",
    "        return  # this makes our code end right now if the user inputted a wrong input\n",
    "\n",
    "    n_players = input(\"Multiplayer or Single-player? \")\n",
    "    if not (n_players == \"Multiplayer\" or n_players == \"Single-player\"):\n",
    "        print(\"Enter a valid number of players\")\n",
    "        return\n",
    "\n",
    "    if difficulty == \"Difficult\" and n_players == \"Multiplayer\":\n",
    "        recommend(\"Poker\")\n",
    "    elif difficulty == \"Difficult\" and n_players == \"Single-player\":\n",
    "        recommend(\"Klondike\")\n",
    "    elif difficulty == \"Casual\" and n_players == \"Multiplayer\":\n",
    "        recommend(\"Hearts\")\n",
    "    else:   # we can use an else statement since there are only 4 cases and we don't need to specify the last one\n",
    "        recommend(\"Clock\")\n",
    "\n",
    "def recommend(game):\n",
    "    print(\"You might like\", game)\n",
    "\n",
    "main()"
   ]
  }
 ],
 "metadata": {
  "kernelspec": {
   "display_name": ".venv",
   "language": "python",
   "name": "python3"
  },
  "language_info": {
   "codemirror_mode": {
    "name": "ipython",
    "version": 3
   },
   "file_extension": ".py",
   "mimetype": "text/x-python",
   "name": "python",
   "nbconvert_exporter": "python",
   "pygments_lexer": "ipython3",
   "version": "3.12.3"
  }
 },
 "nbformat": 4,
 "nbformat_minor": 5
}
